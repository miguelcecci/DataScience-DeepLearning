{
 "cells": [
  {
   "cell_type": "code",
   "execution_count": 23,
   "metadata": {},
   "outputs": [],
   "source": [
    "import tensorflow as tf"
   ]
  },
  {
   "cell_type": "code",
   "execution_count": 24,
   "metadata": {},
   "outputs": [],
   "source": [
    "from tensorflow.examples.tutorials.mnist import input_data"
   ]
  },
  {
   "cell_type": "code",
   "execution_count": 25,
   "metadata": {},
   "outputs": [
    {
     "name": "stdout",
     "output_type": "stream",
     "text": [
      "Extracting ./data/MNIST_data/train-images-idx3-ubyte.gz\n",
      "Extracting ./data/MNIST_data/train-labels-idx1-ubyte.gz\n",
      "Extracting ./data/MNIST_data/t10k-images-idx3-ubyte.gz\n",
      "Extracting ./data/MNIST_data/t10k-labels-idx1-ubyte.gz\n"
     ]
    }
   ],
   "source": [
    "mnist = input_data.read_data_sets('./data/MNIST_data/', one_hot=True)"
   ]
  },
  {
   "cell_type": "code",
   "execution_count": 26,
   "metadata": {},
   "outputs": [],
   "source": [
    "def init_weights(shape):\n",
    "    init_random_dist = tf.truncated_normal(shape, stddev = 0.1)\n",
    "    return tf.Variable(init_random_dist)"
   ]
  },
  {
   "cell_type": "code",
   "execution_count": 27,
   "metadata": {},
   "outputs": [],
   "source": [
    "def init_bias(shape):\n",
    "    init_bias_vals = tf.constant(0.1, shape=shape)\n",
    "    return tf.Variable(init_bias_vals)"
   ]
  },
  {
   "cell_type": "code",
   "execution_count": 28,
   "metadata": {},
   "outputs": [],
   "source": [
    "def conv2d(x,W):\n",
    "    # x --> [batch, H, W, Channels]\n",
    "    # W --> [filter H, filter W, Channels IN, Channels OUT]\n",
    "    return tf.nn.conv2d(x, W, strides = [1,1,1,1], padding='SAME')"
   ]
  },
  {
   "cell_type": "code",
   "execution_count": 29,
   "metadata": {},
   "outputs": [],
   "source": [
    "def max_pool_2by2(x):\n",
    "    #x --> [batch, h, w, c]\n",
    "    return tf.nn.max_pool(x, ksize=[1,2,2,1], strides=[1,2,2,1], padding='SAME')"
   ]
  },
  {
   "cell_type": "code",
   "execution_count": 30,
   "metadata": {},
   "outputs": [],
   "source": [
    "#conv layer\n",
    "def convolutional_layer(input_x,shape):\n",
    "    W = init_weights(shape)\n",
    "    b = init_bias([shape[3]])\n",
    "    return tf.nn.relu(conv2d(input_x, W)+b)"
   ]
  },
  {
   "cell_type": "code",
   "execution_count": 31,
   "metadata": {},
   "outputs": [],
   "source": [
    "def normal_full_layer(input_layer, size):\n",
    "    input_size = int(input_layer.get_shape()[1])\n",
    "    W = init_weights([input_size, size])\n",
    "    b = init_bias([size])\n",
    "    return tf.matmul(input_layer, W) + b    "
   ]
  },
  {
   "cell_type": "code",
   "execution_count": 32,
   "metadata": {},
   "outputs": [],
   "source": [
    "#placeholders\n",
    "x = tf.placeholder(tf.float32, shape=[None, 784])\n",
    "y_true = tf.placeholder(tf.float32, shape=[None, 10])"
   ]
  },
  {
   "cell_type": "code",
   "execution_count": 33,
   "metadata": {},
   "outputs": [],
   "source": [
    "#layers\n",
    "x_image = tf.reshape(x, [-1, 28, 28, 1])"
   ]
  },
  {
   "cell_type": "code",
   "execution_count": 34,
   "metadata": {},
   "outputs": [],
   "source": [
    "convo_1 = convolutional_layer(x_image, shape=[5,5,1,32])\n",
    "convo_1_pooling = max_pool_2by2(convo_1)"
   ]
  },
  {
   "cell_type": "code",
   "execution_count": 35,
   "metadata": {},
   "outputs": [],
   "source": [
    "convo_2 = convolutional_layer(convo_1_pooling, shape=[5,5,32,64])\n",
    "convo_2_pooling = max_pool_2by2(convo_2)"
   ]
  },
  {
   "cell_type": "code",
   "execution_count": 36,
   "metadata": {},
   "outputs": [],
   "source": [
    "convo_2_flat = tf.reshape(convo_2_pooling, [-1,7*7*64])"
   ]
  },
  {
   "cell_type": "code",
   "execution_count": 37,
   "metadata": {},
   "outputs": [],
   "source": [
    "full_layer_one = tf.nn.relu(normal_full_layer(convo_2_flat, 1024))"
   ]
  },
  {
   "cell_type": "code",
   "execution_count": 38,
   "metadata": {},
   "outputs": [],
   "source": [
    "#dropout\n",
    "hold_prob = tf.placeholder(tf.float32)\n",
    "full_one_dropout = tf.nn.dropout(full_layer_one, keep_prob=hold_prob)"
   ]
  },
  {
   "cell_type": "code",
   "execution_count": 39,
   "metadata": {},
   "outputs": [],
   "source": [
    "y_pred = normal_full_layer(full_one_dropout, 10)"
   ]
  },
  {
   "cell_type": "code",
   "execution_count": 40,
   "metadata": {},
   "outputs": [],
   "source": [
    "#LOSS FUNCTION\n",
    "cross_entropy = tf.reduce_mean(tf.nn.softmax_cross_entropy_with_logits(labels=y_true, logits=y_pred))"
   ]
  },
  {
   "cell_type": "code",
   "execution_count": 41,
   "metadata": {},
   "outputs": [],
   "source": [
    "#OPTMIZER\n",
    "optimizer = tf.train.AdamOptimizer(learning_rate=0.001)\n",
    "train = optimizer.minimize(cross_entropy)"
   ]
  },
  {
   "cell_type": "code",
   "execution_count": 42,
   "metadata": {},
   "outputs": [],
   "source": [
    "init = tf.global_variables_initializer()"
   ]
  },
  {
   "cell_type": "code",
   "execution_count": 43,
   "metadata": {},
   "outputs": [
    {
     "name": "stdout",
     "output_type": "stream",
     "text": [
      "ON STEP: 0\n",
      "ACCURACY: \n",
      "0.1199\n",
      "ON STEP: 100\n",
      "ACCURACY: \n",
      "0.9427\n",
      "ON STEP: 200\n",
      "ACCURACY: \n",
      "0.959\n",
      "ON STEP: 300\n",
      "ACCURACY: \n",
      "0.9719\n",
      "ON STEP: 400\n",
      "ACCURACY: \n",
      "0.9683\n",
      "ON STEP: 500\n",
      "ACCURACY: \n",
      "0.9768\n",
      "ON STEP: 600\n",
      "ACCURACY: \n",
      "0.9787\n",
      "ON STEP: 700\n",
      "ACCURACY: \n",
      "0.9756\n",
      "ON STEP: 800\n",
      "ACCURACY: \n",
      "0.9837\n",
      "ON STEP: 900\n",
      "ACCURACY: \n",
      "0.9809\n",
      "ON STEP: 1000\n",
      "ACCURACY: \n",
      "0.9789\n",
      "ON STEP: 1100\n",
      "ACCURACY: \n",
      "0.9847\n",
      "ON STEP: 1200\n",
      "ACCURACY: \n",
      "0.9842\n",
      "ON STEP: 1300\n",
      "ACCURACY: \n",
      "0.9821\n",
      "ON STEP: 1400\n",
      "ACCURACY: \n",
      "0.9857\n",
      "ON STEP: 1500\n",
      "ACCURACY: \n",
      "0.988\n",
      "ON STEP: 1600\n",
      "ACCURACY: \n",
      "0.986\n",
      "ON STEP: 1700\n",
      "ACCURACY: \n",
      "0.9884\n",
      "ON STEP: 1800\n",
      "ACCURACY: \n",
      "0.9885\n",
      "ON STEP: 1900\n",
      "ACCURACY: \n",
      "0.9862\n",
      "ON STEP: 2000\n",
      "ACCURACY: \n",
      "0.9873\n",
      "ON STEP: 2100\n",
      "ACCURACY: \n",
      "0.9881\n",
      "ON STEP: 2200\n",
      "ACCURACY: \n",
      "0.9885\n",
      "ON STEP: 2300\n",
      "ACCURACY: \n",
      "0.9877\n",
      "ON STEP: 2400\n",
      "ACCURACY: \n",
      "0.9899\n",
      "ON STEP: 2500\n",
      "ACCURACY: \n",
      "0.9876\n",
      "ON STEP: 2600\n",
      "ACCURACY: \n",
      "0.9898\n",
      "ON STEP: 2700\n",
      "ACCURACY: \n",
      "0.9867\n",
      "ON STEP: 2800\n",
      "ACCURACY: \n",
      "0.9891\n",
      "ON STEP: 2900\n",
      "ACCURACY: \n",
      "0.9887\n",
      "ON STEP: 3000\n",
      "ACCURACY: \n",
      "0.9877\n",
      "ON STEP: 3100\n",
      "ACCURACY: \n",
      "0.9885\n",
      "ON STEP: 3200\n",
      "ACCURACY: \n",
      "0.9899\n",
      "ON STEP: 3300\n",
      "ACCURACY: \n",
      "0.9884\n",
      "ON STEP: 3400\n",
      "ACCURACY: \n",
      "0.9894\n",
      "ON STEP: 3500\n",
      "ACCURACY: \n",
      "0.9897\n",
      "ON STEP: 3600\n",
      "ACCURACY: \n",
      "0.9896\n",
      "ON STEP: 3700\n",
      "ACCURACY: \n",
      "0.9921\n",
      "ON STEP: 3800\n",
      "ACCURACY: \n",
      "0.9907\n",
      "ON STEP: 3900\n",
      "ACCURACY: \n",
      "0.9877\n",
      "ON STEP: 4000\n",
      "ACCURACY: \n",
      "0.9871\n",
      "ON STEP: 4100\n",
      "ACCURACY: \n",
      "0.9884\n",
      "ON STEP: 4200\n",
      "ACCURACY: \n",
      "0.9901\n",
      "ON STEP: 4300\n",
      "ACCURACY: \n",
      "0.9889\n",
      "ON STEP: 4400\n",
      "ACCURACY: \n",
      "0.9909\n",
      "ON STEP: 4500\n",
      "ACCURACY: \n",
      "0.9903\n",
      "ON STEP: 4600\n",
      "ACCURACY: \n",
      "0.9896\n",
      "ON STEP: 4700\n",
      "ACCURACY: \n",
      "0.9892\n",
      "ON STEP: 4800\n",
      "ACCURACY: \n",
      "0.99\n",
      "ON STEP: 4900\n",
      "ACCURACY: \n",
      "0.9906\n"
     ]
    }
   ],
   "source": [
    "steps = 5000\n",
    "\n",
    "with tf.Session() as sess:\n",
    "    \n",
    "    sess.run(init)\n",
    "    \n",
    "    for i in range(steps):\n",
    "        batch_x, batch_y = mnist.train.next_batch(50)\n",
    "        sess.run(train, feed_dict = {x:batch_x, y_true:batch_y, hold_prob:0.5})\n",
    "        \n",
    "        if i%100 == 0:\n",
    "            print('ON STEP: {}'. format(i))\n",
    "            print('ACCURACY: ')\n",
    "            matches = tf.equal(tf.argmax(y_pred, 1), tf.argmax(y_true, 1))\n",
    "            acc = tf.reduce_mean(tf.cast(matches, tf.float32))\n",
    "            \n",
    "            print(sess.run(acc, feed_dict={x:mnist.test.images, y_true:mnist.test.labels, hold_prob:1.0}))"
   ]
  },
  {
   "cell_type": "code",
   "execution_count": 44,
   "metadata": {},
   "outputs": [
    {
     "name": "stdout",
     "output_type": "stream",
     "text": [
      "[[ 0.  0.  0. ...,  0.  0.  0.]\n",
      " [ 0.  0.  0. ...,  0.  0.  0.]\n",
      " [ 0.  0.  0. ...,  0.  0.  0.]\n",
      " ..., \n",
      " [ 0.  0.  0. ...,  0.  0.  0.]\n",
      " [ 0.  0.  0. ...,  0.  0.  0.]\n",
      " [ 0.  0.  0. ...,  0.  0.  0.]]\n"
     ]
    }
   ],
   "source": [
    "print(batch_x)"
   ]
  },
  {
   "cell_type": "code",
   "execution_count": 47,
   "metadata": {},
   "outputs": [],
   "source": [
    "import matplotlib.pyplot as plt\n",
    "%matplotlib inline"
   ]
  },
  {
   "cell_type": "code",
   "execution_count": 52,
   "metadata": {},
   "outputs": [
    {
     "data": {
      "text/plain": [
       "(50, 784)"
      ]
     },
     "execution_count": 52,
     "metadata": {},
     "output_type": "execute_result"
    }
   ],
   "source": [
    "batch_x.shape"
   ]
  },
  {
   "cell_type": "code",
   "execution_count": null,
   "metadata": {},
   "outputs": [],
   "source": []
  }
 ],
 "metadata": {
  "kernelspec": {
   "display_name": "Python 3",
   "language": "python",
   "name": "python3"
  },
  "language_info": {
   "codemirror_mode": {
    "name": "ipython",
    "version": 3
   },
   "file_extension": ".py",
   "mimetype": "text/x-python",
   "name": "python",
   "nbconvert_exporter": "python",
   "pygments_lexer": "ipython3",
   "version": "3.5.2"
  }
 },
 "nbformat": 4,
 "nbformat_minor": 2
}
