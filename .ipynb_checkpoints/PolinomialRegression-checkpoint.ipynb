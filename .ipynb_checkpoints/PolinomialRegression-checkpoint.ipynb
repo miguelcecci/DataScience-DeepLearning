{
 "cells": [
  {
   "cell_type": "code",
   "execution_count": 1,
   "metadata": {},
   "outputs": [],
   "source": [
    "import tensorflow as tf\n",
    "import numpy as np\n",
    "import matplotlib.pyplot as plt\n",
    "import math\n",
    "%matplotlib inline"
   ]
  },
  {
   "cell_type": "markdown",
   "metadata": {},
   "source": [
    "### Gerando Dataset"
   ]
  },
  {
   "cell_type": "code",
   "execution_count": 2,
   "metadata": {},
   "outputs": [
    {
     "data": {
      "text/plain": [
       "[<matplotlib.lines.Line2D at 0x7fd116ea2908>]"
      ]
     },
     "execution_count": 2,
     "metadata": {},
     "output_type": "execute_result"
    },
    {
     "data": {
      "image/png": "[encoded data removed]",
      "text/plain": [
       "<matplotlib.figure.Figure at 0x7fd119188c50>"
      ]
     },
     "metadata": {},
     "output_type": "display_data"
    }
   ],
   "source": [
    "np.random.seed(101)\n",
    "\n",
    "a = np.random.uniform(2, 20, 50)\n",
    "\n",
    "label = []\n",
    "label = ( 3*a*a + 5)\n",
    "\n",
    "plt.plot(a, label, '*')"
   ]
  },
  {
   "cell_type": "code",
   "execution_count": 3,
   "metadata": {},
   "outputs": [],
   "source": [
    "n = 1\n",
    "\n",
    "batch_size = 5\n",
    "W = tf.Variable(tf.zeros([n, 1]))\n",
    "bias = tf.Variable(tf.zeros([1]))\n",
    "\n",
    "x = tf.placeholder(tf.float32, [batch_size], name=\"x_tensor\")\n",
    "y = tf.placeholder(tf.float32, batch_size, name=\"y_tensor\")"
   ]
  },
  {
   "cell_type": "code",
   "execution_count": 4,
   "metadata": {},
   "outputs": [],
   "source": [
    "y_ = x*x*W + bias"
   ]
  },
  {
   "cell_type": "code",
   "execution_count": 5,
   "metadata": {},
   "outputs": [],
   "source": [
    "cost = tf.reduce_sum(tf.square(y-y_))"
   ]
  },
  {
   "cell_type": "code",
   "execution_count": 6,
   "metadata": {},
   "outputs": [],
   "source": [
    "optimizer = tf.train.AdamOptimizer(learning_rate=0.01)\n",
    "train = optimizer.minimize(cost)"
   ]
  },
  {
   "cell_type": "code",
   "execution_count": 7,
   "metadata": {},
   "outputs": [],
   "source": [
    "init = tf.global_variables_initializer()"
   ]
  },
  {
   "cell_type": "code",
   "execution_count": 11,
   "metadata": {},
   "outputs": [
    {
     "name": "stdout",
     "output_type": "stream",
     "text": [
      "Epoch  0\n",
      "cost  1.50994e+06\n",
      "Epoch  1000\n",
      "cost  7.85497\n",
      "Epoch  2000\n",
      "cost  10.7236\n",
      "Epoch  3000\n",
      "cost  6.61357\n",
      "Epoch  4000\n",
      "cost  4.82837\n",
      "Epoch  5000\n",
      "cost  2.33609\n",
      "Epoch  6000\n",
      "cost  1.1054\n",
      "Epoch  7000\n",
      "cost  0.471392\n",
      "Epoch  8000\n",
      "cost  0.137596\n",
      "Epoch  9000\n",
      "cost  0.00357267\n"
     ]
    }
   ],
   "source": [
    "with tf.Session() as sess:\n",
    "    sess.run(init)\n",
    "    batches = 10000\n",
    "    for _ in range(batches):\n",
    "        rand_ind = np.random.randint(len(label), size=5)\n",
    "        feed = {x:a[rand_ind], y:label[rand_ind]}\n",
    "        sess.run(train, feed_dict=feed)\n",
    "        if _ % 1000 == 0:\n",
    "            print('Epoch ', _)\n",
    "            print('cost ', sess.run(cost, feed_dict = feed))\n",
    "        \n",
    "    ma, mb = sess.run([W, bias])"
   ]
  },
  {
   "cell_type": "code",
   "execution_count": 12,
   "metadata": {},
   "outputs": [
    {
     "name": "stdout",
     "output_type": "stream",
     "text": [
      "[[ 3.0000267]] [ 4.99476385]\n"
     ]
    }
   ],
   "source": [
    "print(ma, mb)"
   ]
  },
  {
   "cell_type": "code",
   "execution_count": 37,
   "metadata": {},
   "outputs": [
    {
     "data": {
      "text/plain": [
       "[<matplotlib.lines.Line2D at 0x7fd10c11ec88>]"
      ]
     },
     "execution_count": 37,
     "metadata": {},
     "output_type": "execute_result"
    },
    {
     "data": {
      "image/png": "[encoded data removed]",
      "text/plain": [
       "<matplotlib.figure.Figure at 0x7fd10c11ecc0>"
      ]
     },
     "metadata": {},
     "output_type": "display_data"
    }
   ],
   "source": [
    "teste = np.linspace(2, 20.0, 50)\n",
    "y_hat = np.array(ma[0])*teste*teste + mb\n",
    "plt.plot(a, label, '*')\n",
    "plt.plot(teste, y_hat)"
   ]
  }
 ],
 "metadata": {
  "kernelspec": {
   "display_name": "Python 3",
   "language": "python",
   "name": "python3"
  },
  "language_info": {
   "codemirror_mode": {
    "name": "ipython",
    "version": 3
   },
   "file_extension": ".py",
   "mimetype": "text/x-python",
   "name": "python",
   "nbconvert_exporter": "python",
   "pygments_lexer": "ipython3",
   "version": "3.5.2"
  }
 },
 "nbformat": 4,
 "nbformat_minor": 2
}
