{
 "cells": [
  {
   "cell_type": "code",
   "execution_count": 2,
   "metadata": {},
   "outputs": [],
   "source": [
    "import tensorflow as tf\n",
    "import matplotlib.pyplot as plt\n",
    "import numpy as np\n",
    "import math\n",
    "%matplotlib inline"
   ]
  },
  {
   "cell_type": "code",
   "execution_count": 3,
   "metadata": {},
   "outputs": [],
   "source": [
    "data = np.array([[0,0], [0,1], [1,0], [1,1]])\n",
    "labels = np.array([[1,0],  [0,1],  [0,1], [1,0]])"
   ]
  },
  {
   "cell_type": "code",
   "execution_count": 4,
   "metadata": {},
   "outputs": [
    {
     "data": {
      "text/plain": [
       "<matplotlib.collections.PathCollection at 0x7f569ce3a6a0>"
      ]
     },
     "execution_count": 4,
     "metadata": {},
     "output_type": "execute_result"
    },
    {
     "data": {
      "image/png": "[encoded data removed]",
      "text/plain": [
       "<matplotlib.figure.Figure at 0x7f569ee4e630>"
      ]
     },
     "metadata": {},
     "output_type": "display_data"
    }
   ],
   "source": [
    "labels_print = np.array([[0], [1], [1], [0]])\n",
    "plt.scatter(data[:,0], data[:,1], c=labels_print, cmap=\"coolwarm\")"
   ]
  },
  {
   "cell_type": "code",
   "execution_count": 6,
   "metadata": {},
   "outputs": [],
   "source": [
    "feature_number = 2\n",
    "hidden_nodes_number = 4\n",
    "output_number = 2\n",
    "\n",
    "x = tf.placeholder(\"float32\", [4, feature_number])\n",
    "y = tf.placeholder(\"float32\", [4, output_number])\n",
    "\n",
    "W1 = tf.Variable(tf.zeros([feature_number, hidden_nodes_number]) )\n",
    "W2 = tf.Variable(tf.zeros([hidden_nodes_number, hidden_nodes_number]) )\n",
    "W3 = tf.Variable(tf.zeros([hidden_nodes_number, output_number]))\n",
    "\n",
    "b1 = tf.Variable(tf.zeros([hidden_nodes_number]) )\n",
    "b2 = tf.Variable(tf.zeros([hidden_nodes_number]) )\n",
    "b3 = tf.Variable(tf.zeros([output_number]))"
   ]
  },
  {
   "cell_type": "code",
   "execution_count": 7,
   "metadata": {},
   "outputs": [],
   "source": [
    "layer_1 = tf.nn.sigmoid(tf.matmul(x, W1) + b1) #cuidar para nao inverter a ordem\n",
    "layer_2 = tf.nn.sigmoid(tf.matmul(layer_1, W2) + b2)\n",
    "layer_out = tf.nn.sigmoid(tf.matmul(layer_2, W3) + b3)"
   ]
  },
  {
   "cell_type": "code",
   "execution_count": 8,
   "metadata": {},
   "outputs": [],
   "source": [
    "cost = tf.reduce_sum(tf.square(y-layer_out))\n",
    "optimizer = tf.train.GradientDescent(learning_rate=0.1)\n",
    "train = optimizer.minimize(cost)"
   ]
  },
  {
   "cell_type": "code",
   "execution_count": 9,
   "metadata": {},
   "outputs": [],
   "source": [
    "init = tf.global_variables_initializer()"
   ]
  },
  {
   "cell_type": "code",
   "execution_count": null,
   "metadata": {},
   "outputs": [
    {
     "name": "stdout",
     "output_type": "stream",
     "text": [
      "cost:  2.0\n",
      "cost:  2.0\n",
      "cost:  2.0\n",
      "cost:  2.0\n",
      "cost:  2.0\n",
      "cost:  2.0\n",
      "cost:  2.0\n",
      "cost:  2.0\n",
      "cost:  2.0\n",
      "cost:  2.0\n",
      "cost:  2.0\n",
      "cost:  2.0\n",
      "cost:  2.0\n",
      "cost:  2.0\n",
      "cost:  2.0\n",
      "cost:  2.0\n",
      "cost:  2.0\n",
      "cost:  2.0\n",
      "cost:  2.0\n",
      "cost:  2.0\n",
      "cost:  2.0\n",
      "cost:  2.0\n",
      "cost:  2.0\n",
      "cost:  2.0\n",
      "cost:  2.0\n",
      "cost:  2.0\n",
      "cost:  2.0\n",
      "cost:  2.0\n",
      "cost:  2.0\n",
      "cost:  2.0\n",
      "cost:  2.0\n",
      "cost:  2.0\n",
      "cost:  2.0\n",
      "cost:  2.0\n",
      "cost:  2.0\n",
      "cost:  2.0\n",
      "cost:  2.0\n",
      "cost:  2.0\n",
      "cost:  2.0\n",
      "cost:  2.0\n",
      "cost:  2.0\n",
      "cost:  2.0\n"
     ]
    }
   ],
   "source": [
    "with tf.Session() as sess:\n",
    "    sess.run(init)\n",
    "    for steps in range(100000):\n",
    "        rand_ind = np.random.randint(len(labels), size=1)\n",
    "        feed = {x:data[rand_ind], y:labels[rand_ind]}\n",
    "        sess.run(train, feed_dict = feed)\n",
    "        if steps % 1000 == 0:\n",
    "            print(\"cost: \", sess.run(cost, feed_dict = feed))\n",
    "        "
   ]
  },
  {
   "cell_type": "code",
   "execution_count": null,
   "metadata": {},
   "outputs": [],
   "source": []
  },
  {
   "cell_type": "code",
   "execution_count": null,
   "metadata": {},
   "outputs": [],
   "source": []
  }
 ],
 "metadata": {
  "kernelspec": {
   "display_name": "Python 3",
   "language": "python",
   "name": "python3"
  },
  "language_info": {
   "codemirror_mode": {
    "name": "ipython",
    "version": 3
   },
   "file_extension": ".py",
   "mimetype": "text/x-python",
   "name": "python",
   "nbconvert_exporter": "python",
   "pygments_lexer": "ipython3",
   "version": "3.5.2"
  }
 },
 "nbformat": 4,
 "nbformat_minor": 2
}
