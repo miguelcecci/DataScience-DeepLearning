{
 "cells": [
  {
   "cell_type": "markdown",
   "metadata": {},
   "source": [
    "# LeNet - 5\n",
    "\n",
    "https://stackoverflow.com/questions/28525436/why-the-lenet5-uses-32%C3%9732-image-as-input\n",
    "\n",
    "http://yann.lecun.com/exdb/publis/pdf/lecun-98.pdf\n",
    "\n",
    "<img src=\"https://world4jason.gitbooks.io/research-log/content/deepLearning/CNN/img/lenet.png\">\n",
    "\n",
    "https://world4jason.gitbooks.io/research-log/content/deepLearning/CNN/img/lenet.png"
   ]
  },
  {
   "cell_type": "code",
   "execution_count": 1,
   "metadata": {},
   "outputs": [],
   "source": [
    "import numpy as np\n",
    "import matplotlib.pyplot as plt\n",
    "import tensorflow as tf\n",
    "from tensorflow.examples.tutorials.mnist import input_data\n",
    "import random"
   ]
  },
  {
   "cell_type": "code",
   "execution_count": 2,
   "metadata": {},
   "outputs": [
    {
     "name": "stdout",
     "output_type": "stream",
     "text": [
      "Extracting MNIST_data/train-images-idx3-ubyte.gz\n",
      "Extracting MNIST_data/train-labels-idx1-ubyte.gz\n",
      "Extracting MNIST_data/t10k-images-idx3-ubyte.gz\n",
      "Extracting MNIST_data/t10k-labels-idx1-ubyte.gz\n"
     ]
    }
   ],
   "source": [
    "mnist = input_data.read_data_sets(\"MNIST_data\", one_hot=True)\n",
    "input_dim = mnist.train.images[0].shape[0]"
   ]
  },
  {
   "cell_type": "code",
   "execution_count": 3,
   "metadata": {},
   "outputs": [],
   "source": [
    "def init_weights(shape):\n",
    "    init_random_dist = tf.truncated_normal(shape, stddev = 0.1)\n",
    "    return tf.Variable(init_random_dist)"
   ]
  },
  {
   "cell_type": "code",
   "execution_count": 4,
   "metadata": {},
   "outputs": [],
   "source": [
    "def init_bias(shape):\n",
    "    init_bias_vals = tf.constant(0.1, shape=shape)\n",
    "    return tf.Variable(init_bias_vals)"
   ]
  },
  {
   "cell_type": "code",
   "execution_count": 5,
   "metadata": {},
   "outputs": [],
   "source": [
    "def conv2d(x, W):\n",
    "    #x -> [batch, H, W, Channels]\n",
    "    #W -> [filter H, filter W, Channels IN, Channels Out]\n",
    "    return tf.nn.conv2d(x, W, strides = [1,1,1,1], padding='VALID')"
   ]
  },
  {
   "cell_type": "code",
   "execution_count": 6,
   "metadata": {},
   "outputs": [],
   "source": [
    "def avg_pool_2by2(x):\n",
    "    #x -> [batch, H, W, Channels]\n",
    "    return tf.nn.avg_pool(x, ksize=[1, 2, 2, 1], strides = [1,2,2,1], padding='SAME')"
   ]
  },
  {
   "cell_type": "code",
   "execution_count": 7,
   "metadata": {},
   "outputs": [],
   "source": [
    "def convolutional_layer(input_x, shape):\n",
    "    #shape = [W, H, CH_IN, CH_OUT]\n",
    "    W = init_weights(shape)\n",
    "    b = init_bias([shape[3]])\n",
    "    return tf.nn.relu(conv2d(input_x, W)+b)"
   ]
  },
  {
   "cell_type": "code",
   "execution_count": 8,
   "metadata": {},
   "outputs": [],
   "source": [
    "def normal_full_layer(input_layer, size):\n",
    "    input_size = int(input_layer.get_shape()[1])\n",
    "    W = init_weights([input_size, size])\n",
    "    b = init_bias([size])\n",
    "    return tf.nn.relu(tf.matmul(input_layer, W) + b)"
   ]
  },
  {
   "cell_type": "code",
   "execution_count": 9,
   "metadata": {},
   "outputs": [],
   "source": [
    "COLOR_CHANNELS = 1\n",
    "# placeholders\n",
    "x = tf.placeholder(tf.float32, shape=[None, 28**2])\n",
    "y_ = tf.placeholder(tf.float32, shape=[None, 10])\n",
    "learning_rate = tf.placeholder('float', [])"
   ]
  },
  {
   "cell_type": "code",
   "execution_count": 10,
   "metadata": {},
   "outputs": [
    {
     "name": "stdout",
     "output_type": "stream",
     "text": [
      "(?, 28, 28, 1)\n",
      "(?, 32, 32, 1)\n"
     ]
    }
   ],
   "source": [
    "COLOR_CHANNELS = 1\n",
    "x_image = tf.reshape(x, [-1, 28, 28, COLOR_CHANNELS])\n",
    "print(x_image.shape)\n",
    "x_image = tf.pad(x_image, tf.constant([[0,0], [2,2],[2,2], [0,0]]), 'CONSTANT')\n",
    "print(x_image.shape)"
   ]
  },
  {
   "cell_type": "code",
   "execution_count": 11,
   "metadata": {},
   "outputs": [
    {
     "name": "stdout",
     "output_type": "stream",
     "text": [
      "(?, 28, 28, 6)\n",
      "(?, 14, 14, 6)\n",
      "(?, 10, 10, 16)\n",
      "(?, 5, 5, 16)\n",
      "(?, 400)\n",
      "(?, 120)\n",
      "(?, 84)\n",
      "(?, 10)\n",
      "(?, 10)\n"
     ]
    }
   ],
   "source": [
    "hl1 = convolutional_layer(x_image, shape=[5, 5, COLOR_CHANNELS, 6])\n",
    "print(hl1.shape)\n",
    "hl2 = avg_pool_2by2(hl1)\n",
    "print(hl2.shape)\n",
    "hl3 = convolutional_layer(hl2, shape=[5, 5, 6, 16])\n",
    "print(hl3.shape)\n",
    "hl4 = avg_pool_2by2(hl3)\n",
    "print(hl4.shape)\n",
    "flat_layer = tf.reshape(hl4, [-1, 5*5*16])\n",
    "print(flat_layer.shape)\n",
    "hl5 = normal_full_layer(flat_layer, 120)\n",
    "print(hl5.shape)\n",
    "hl6 = normal_full_layer(hl5, 84)\n",
    "print(hl6.shape)\n",
    "hl7 = normal_full_layer(hl6, 10)\n",
    "print(hl7.shape)\n",
    "ol = tf.nn.softmax(hl7)\n",
    "print(ol.shape)"
   ]
  },
  {
   "cell_type": "code",
   "execution_count": 12,
   "metadata": {},
   "outputs": [],
   "source": [
    "loss = tf.reduce_mean((ol - y_ )**2)\n",
    "train = tf.train.AdamOptimizer(learning_rate).minimize(loss)"
   ]
  },
  {
   "cell_type": "code",
   "execution_count": 13,
   "metadata": {},
   "outputs": [],
   "source": [
    "init = tf.global_variables_initializer()\n",
    "saver = tf.train.Saver()"
   ]
  },
  {
   "cell_type": "code",
   "execution_count": 14,
   "metadata": {},
   "outputs": [
    {
     "name": "stdout",
     "output_type": "stream",
     "text": [
      "ON STEP: 29900, ACURRACY: 0.9803001284599304, LOSS: 0.012236680835485458\n"
     ]
    }
   ],
   "source": [
    "from IPython.display import clear_output\n",
    "\n",
    "steps = 30000\n",
    "rate = 3e-3\n",
    "plot_accuracy = []\n",
    "plot_loss = []\n",
    "\n",
    "with tf.Session() as  sess:\n",
    "    sess.run(init)\n",
    "    for i in range(steps):\n",
    "        batch_x, batch_y = mnist.train.next_batch(50)\n",
    "        sess.run(train, feed_dict = {x:batch_x, y_:batch_y, learning_rate:rate})\n",
    "        \n",
    "        if i%100 == 0:\n",
    "            clear_output()\n",
    "            matches = tf.equal(tf.argmax(ol, 1), tf.argmax(y_, 1))\n",
    "            acc = tf.reduce_mean(tf.cast(matches, tf.float32))\n",
    "            print_accuracy = sess.run(acc, feed_dict={x:mnist.test.images, y_:mnist.test.labels})\n",
    "            print_loss = sess.run(loss, feed_dict={x:mnist.test.images, y_:mnist.test.labels})\n",
    "            plot_accuracy.append(print_accuracy)\n",
    "            plot_loss.append(print_loss)\n",
    "            print('ON STEP: {}, ACURRACY: {}, LOSS: {}'. format(i, print_accuracy, print_loss))\n",
    "            clear_output(wait=True)"
   ]
  },
  {
   "cell_type": "code",
   "execution_count": 15,
   "metadata": {},
   "outputs": [
    {
     "data": {
      "text/plain": [
       "[<matplotlib.lines.Line2D at 0x7fd3b4a8d668>]"
      ]
     },
     "execution_count": 15,
     "metadata": {},
     "output_type": "execute_result"
    },
    {
     "data": {
      "image/png": "[encoded data removed]",
      "text/plain": [
       "<matplotlib.figure.Figure at 0x7fd3cf36cdd8>"
      ]
     },
     "metadata": {},
     "output_type": "display_data"
    }
   ],
   "source": [
    "%matplotlib inline\n",
    "plt.plot(plot_accuracy)"
   ]
  },
  {
   "cell_type": "code",
   "execution_count": 16,
   "metadata": {},
   "outputs": [
    {
     "data": {
      "text/plain": [
       "[<matplotlib.lines.Line2D at 0x7fd3b4a33470>]"
      ]
     },
     "execution_count": 16,
     "metadata": {},
     "output_type": "execute_result"
    },
    {
     "data": {
      "image/png": "[encoded data removed]",
      "text/plain": [
       "<matplotlib.figure.Figure at 0x7fd3b4a60cc0>"
      ]
     },
     "metadata": {},
     "output_type": "display_data"
    }
   ],
   "source": [
    "plt.plot(plot_loss)"
   ]
  }
 ],
 "metadata": {
  "kernelspec": {
   "display_name": "Python 3",
   "language": "python",
   "name": "python3"
  },
  "language_info": {
   "codemirror_mode": {
    "name": "ipython",
    "version": 3
   },
   "file_extension": ".py",
   "mimetype": "text/x-python",
   "name": "python",
   "nbconvert_exporter": "python",
   "pygments_lexer": "ipython3",
   "version": "3.5.2"
  }
 },
 "nbformat": 4,
 "nbformat_minor": 2
}
