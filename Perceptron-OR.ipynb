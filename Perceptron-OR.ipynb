{
 "cells": [
  {
   "cell_type": "markdown",
   "metadata": {},
   "source": [
    "# Perceptron\n",
    "\n",
    "### OR problem"
   ]
  },
  {
   "cell_type": "code",
   "execution_count": 1,
   "metadata": {},
   "outputs": [],
   "source": [
    "import tensorflow as tf\n",
    "import numpy as np\n",
    "import matplotlib.pyplot as plt\n",
    "%matplotlib inline\n",
    "import math"
   ]
  },
  {
   "cell_type": "code",
   "execution_count": 2,
   "metadata": {},
   "outputs": [],
   "source": [
    "features = np.array([[0,0], [0,1], [1,0], [1,1]])\n",
    "labels = np.array([[0], [1], [1], [1]])"
   ]
  },
  {
   "cell_type": "code",
   "execution_count": 3,
   "metadata": {},
   "outputs": [
    {
     "data": {
      "text/plain": [
       "<matplotlib.collections.PathCollection at 0x7f504c767860>"
      ]
     },
     "execution_count": 3,
     "metadata": {},
     "output_type": "execute_result"
    },
    {
     "data": {
      "image/png": "[encoded data removed]",
      "text/plain": [
       "<matplotlib.figure.Figure at 0x7f504ea568d0>"
      ]
     },
     "metadata": {},
     "output_type": "display_data"
    }
   ],
   "source": [
    "plt.scatter(features[:,0], features[:,1], c=labels, cmap = 'coolwarm')"
   ]
  },
  {
   "cell_type": "code",
   "execution_count": 4,
   "metadata": {},
   "outputs": [],
   "source": [
    "n = 2\n",
    "\n",
    "x = tf.placeholder(tf.float32, [1, 2])\n",
    "y = tf.placeholder(tf.float32, [1, 1])\n",
    "\n",
    "W = tf.Variable(tf.zeros([2, 1]))\n",
    "bias = tf.Variable(tf.zeros([1, 1]))\n"
   ]
  },
  {
   "cell_type": "code",
   "execution_count": 5,
   "metadata": {},
   "outputs": [],
   "source": [
    "y_model = tf.matmul(x, W) + bias\n",
    "y_model = tf.sigmoid(y_model)"
   ]
  },
  {
   "cell_type": "code",
   "execution_count": 6,
   "metadata": {},
   "outputs": [],
   "source": [
    "cost = tf.reduce_sum(tf.square(y-y_model))\n",
    "optimizer = tf.train.AdamOptimizer(learning_rate=0.01)\n",
    "train = optimizer.minimize(cost)"
   ]
  },
  {
   "cell_type": "code",
   "execution_count": 7,
   "metadata": {},
   "outputs": [],
   "source": [
    "init = tf.global_variables_initializer()"
   ]
  },
  {
   "cell_type": "code",
   "execution_count": 8,
   "metadata": {},
   "outputs": [
    {
     "name": "stdout",
     "output_type": "stream",
     "text": [
      "Epoch  0\n",
      "cost  0.245025\n",
      "Epoch  1000\n",
      "cost  0.0839486\n",
      "Epoch  2000\n",
      "cost  0.00490125\n",
      "Epoch  3000\n",
      "cost  6.68867e-08\n",
      "Epoch  4000\n",
      "cost  0.00396392\n",
      "Epoch  5000\n",
      "cost  8.74024e-10\n",
      "Epoch  6000\n",
      "cost  1.4785e-10\n",
      "Epoch  7000\n",
      "cost  3.13918e-11\n",
      "Epoch  8000\n",
      "cost  6.26699e-12\n",
      "Epoch  9000\n",
      "cost  7.85026e-05\n",
      "Epoch  10000\n",
      "cost  0.000154005\n",
      "Epoch  11000\n",
      "cost  2.34858e-05\n",
      "Epoch  12000\n",
      "cost  1.42109e-14\n",
      "Epoch  13000\n",
      "cost  3.47481e-05\n",
      "Epoch  14000\n",
      "cost  0.0\n",
      "Epoch  15000\n",
      "cost  1.25472e-05\n",
      "Epoch  16000\n",
      "cost  2.04978e-06\n",
      "Epoch  17000\n",
      "cost  0.0\n",
      "Epoch  18000\n",
      "cost  7.78292e-07\n",
      "Epoch  19000\n",
      "cost  0.0\n"
     ]
    }
   ],
   "source": [
    "with tf.Session() as sess:\n",
    "    sess.run(init)\n",
    "    for steps in range(20000):\n",
    "        rand_ind = np.random.randint(len(labels), size=1)\n",
    "        feed = {x:features[rand_ind], y:labels[rand_ind]}\n",
    "        sess.run(train, feed_dict = feed)\n",
    "        if steps % 1000 == 0:\n",
    "            print('Epoch ', steps)\n",
    "            print('cost ', sess.run(cost, feed_dict = feed))\n",
    "        \n",
    "    ma, mb = sess.run([W, bias])"
   ]
  },
  {
   "cell_type": "code",
   "execution_count": 11,
   "metadata": {},
   "outputs": [
    {
     "name": "stdout",
     "output_type": "stream",
     "text": [
      "[[ 14.42818546]\n",
      " [ 14.43498516]] [[-6.88076782]]\n"
     ]
    }
   ],
   "source": [
    "print(ma, mb)"
   ]
  },
  {
   "cell_type": "code",
   "execution_count": 12,
   "metadata": {},
   "outputs": [
    {
     "name": "stdout",
     "output_type": "stream",
     "text": [
      "[0 0] 0.0010263005413719546\n",
      "[0 1] 0.9994763783086157\n",
      "[1 0] 0.9994728075902201\n",
      "[1 1] 0.9999999997161011\n"
     ]
    }
   ],
   "source": [
    "def sigmoid(x):\n",
    "  return 1 / (1 + math.exp(-x))\n",
    "for a in features:\n",
    "    v = np.array(ma).transpose()*np.array(a)\n",
    "    print(a, sigmoid(v[0][0] + v[0][1] + mb[0][0]))"
   ]
  }
 ],
 "metadata": {
  "kernelspec": {
   "display_name": "Python 3",
   "language": "python",
   "name": "python3"
  },
  "language_info": {
   "codemirror_mode": {
    "name": "ipython",
    "version": 3
   },
   "file_extension": ".py",
   "mimetype": "text/x-python",
   "name": "python",
   "nbconvert_exporter": "python",
   "pygments_lexer": "ipython3",
   "version": "3.5.2"
  }
 },
 "nbformat": 4,
 "nbformat_minor": 2
}
