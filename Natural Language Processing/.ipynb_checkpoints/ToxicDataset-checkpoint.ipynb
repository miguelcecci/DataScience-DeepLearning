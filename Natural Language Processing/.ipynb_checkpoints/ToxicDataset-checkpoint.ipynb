{
 "cells": [
  {
   "cell_type": "markdown",
   "metadata": {},
   "source": [
    "# Classificaçao de Comentarios Toxicos\n",
    "\n",
    "Miguel A. Cece, Paulo Alves"
   ]
  },
  {
   "cell_type": "code",
   "execution_count": 104,
   "metadata": {},
   "outputs": [],
   "source": [
    "from nltk.tokenize import word_tokenize\n",
    "import pandas as pd\n",
    "import math\n",
    "import seaborn as sns\n",
    "from collections import Counter\n",
    "import re\n",
    "import random"
   ]
  },
  {
   "cell_type": "code",
   "execution_count": 105,
   "metadata": {},
   "outputs": [
    {
     "data": {
      "text/html": [
       "<div>\n",
       "<style>\n",
       "    .dataframe thead tr:only-child th {\n",
       "        text-align: right;\n",
       "    }\n",
       "\n",
       "    .dataframe thead th {\n",
       "        text-align: left;\n",
       "    }\n",
       "\n",
       "    .dataframe tbody tr th {\n",
       "        vertical-align: top;\n",
       "    }\n",
       "</style>\n",
       "<table border=\"1\" class=\"dataframe\">\n",
       "  <thead>\n",
       "    <tr style=\"text-align: right;\">\n",
       "      <th></th>\n",
       "      <th>id</th>\n",
       "      <th>comment_text</th>\n",
       "      <th>toxic</th>\n",
       "      <th>severe_toxic</th>\n",
       "      <th>obscene</th>\n",
       "      <th>threat</th>\n",
       "      <th>insult</th>\n",
       "      <th>identity_hate</th>\n",
       "    </tr>\n",
       "  </thead>\n",
       "  <tbody>\n",
       "    <tr>\n",
       "      <th>0</th>\n",
       "      <td>0000997932d777bf</td>\n",
       "      <td>Explanation\\nWhy the edits made under my usern...</td>\n",
       "      <td>0</td>\n",
       "      <td>0</td>\n",
       "      <td>0</td>\n",
       "      <td>0</td>\n",
       "      <td>0</td>\n",
       "      <td>0</td>\n",
       "    </tr>\n",
       "    <tr>\n",
       "      <th>1</th>\n",
       "      <td>000103f0d9cfb60f</td>\n",
       "      <td>D'aww! He matches this background colour I'm s...</td>\n",
       "      <td>0</td>\n",
       "      <td>0</td>\n",
       "      <td>0</td>\n",
       "      <td>0</td>\n",
       "      <td>0</td>\n",
       "      <td>0</td>\n",
       "    </tr>\n",
       "    <tr>\n",
       "      <th>2</th>\n",
       "      <td>000113f07ec002fd</td>\n",
       "      <td>Hey man, I'm really not trying to edit war. It...</td>\n",
       "      <td>0</td>\n",
       "      <td>0</td>\n",
       "      <td>0</td>\n",
       "      <td>0</td>\n",
       "      <td>0</td>\n",
       "      <td>0</td>\n",
       "    </tr>\n",
       "    <tr>\n",
       "      <th>3</th>\n",
       "      <td>0001b41b1c6bb37e</td>\n",
       "      <td>\"\\nMore\\nI can't make any real suggestions on ...</td>\n",
       "      <td>0</td>\n",
       "      <td>0</td>\n",
       "      <td>0</td>\n",
       "      <td>0</td>\n",
       "      <td>0</td>\n",
       "      <td>0</td>\n",
       "    </tr>\n",
       "    <tr>\n",
       "      <th>4</th>\n",
       "      <td>0001d958c54c6e35</td>\n",
       "      <td>You, sir, are my hero. Any chance you remember...</td>\n",
       "      <td>0</td>\n",
       "      <td>0</td>\n",
       "      <td>0</td>\n",
       "      <td>0</td>\n",
       "      <td>0</td>\n",
       "      <td>0</td>\n",
       "    </tr>\n",
       "  </tbody>\n",
       "</table>\n",
       "</div>"
      ],
      "text/plain": [
       "                 id                                       comment_text  toxic  \\\n",
       "0  0000997932d777bf  Explanation\\nWhy the edits made under my usern...      0   \n",
       "1  000103f0d9cfb60f  D'aww! He matches this background colour I'm s...      0   \n",
       "2  000113f07ec002fd  Hey man, I'm really not trying to edit war. It...      0   \n",
       "3  0001b41b1c6bb37e  \"\\nMore\\nI can't make any real suggestions on ...      0   \n",
       "4  0001d958c54c6e35  You, sir, are my hero. Any chance you remember...      0   \n",
       "\n",
       "   severe_toxic  obscene  threat  insult  identity_hate  \n",
       "0             0        0       0       0              0  \n",
       "1             0        0       0       0              0  \n",
       "2             0        0       0       0              0  \n",
       "3             0        0       0       0              0  \n",
       "4             0        0       0       0              0  "
      ]
     },
     "execution_count": 105,
     "metadata": {},
     "output_type": "execute_result"
    }
   ],
   "source": [
    "df = pd.read_csv('../data/Toxic/train.csv')\n",
    "df.head()"
   ]
  },
  {
   "cell_type": "code",
   "execution_count": 127,
   "metadata": {},
   "outputs": [],
   "source": [
    "def clean_text(text):\n",
    "    replaced = re.sub('[^a-zA-Z0-9 | \\d | _]', ' ', text)\n",
    "    return replaced.lower()"
   ]
  },
  {
   "cell_type": "code",
   "execution_count": 128,
   "metadata": {},
   "outputs": [],
   "source": [
    "#USANDO DATAFRAME REDUZIDO\n",
    "def create_lexicon(dataframe):\n",
    "    lexicon = []\n",
    "    for i in range(math.floor(len(dataframe)/50)):\n",
    "        lexicon += word_tokenize(clean_text(dataframe.get_value(i, 'comment_text')))\n",
    "    return lexicon"
   ]
  },
  {
   "cell_type": "code",
   "execution_count": 164,
   "metadata": {},
   "outputs": [],
   "source": [
    "def repeated_words(lex, n_of_occurences):\n",
    "    w_counts = Counter(lex)\n",
    "    w_counts_list = []\n",
    "    w_list = []\n",
    "    for w in w_counts:\n",
    "        if w_counts[w]>n_of_occurences:\n",
    "            w_list.append(w)\n",
    "            w_counts_list.append(w_counts[w])\n",
    "    zipada = sorted(zip(w_counts_list, w_list))\n",
    "    w_counts_list, w_list = zip(*zipada)\n",
    "    return w_list, w_counts_list"
   ]
  },
  {
   "cell_type": "code",
   "execution_count": 165,
   "metadata": {},
   "outputs": [
    {
     "name": "stdout",
     "output_type": "stream",
     "text": [
      "Original \n",
      " Military Attache rumours and Titanic 'Mock Trial' documents\n",
      "\n",
      "I haven't included the much repeated claim that at the time of the Titanic disaster, Bjornstrom-Steffansson was a military attache to the Swedish embassy in Washington.  I haven't included it because it is unclear to what extent semi-fictional online documents produced by a New York law firm (Anderson Kill), used to introduce students to the US legal system, have influenced the perception of a role which Bjornstrom-Steffansson himself denied.  \n",
      "\n",
      "For example, if you google his name, you will quite easily find an authentic looking letter, which claims to be written by Steffansson when he was residing at the Hotel Gotham in New York, directly after the disaster, and addressed to the counsel for the White Star Line.  In fact, this letter is entirely fictional and forms a part of the teaching materials used in Anderson Kill's mock trial. \n",
      "\n",
      "Clean Text \n",
      " military attache rumours and titanic  mock trial  documents  i haven t included the much repeated claim that at the time of the titanic disaster  bjornstrom steffansson was a military attache to the swedish embassy in washington   i haven t included it because it is unclear to what extent semi fictional online documents produced by a new york law firm  anderson kill   used to introduce students to the us legal system  have influenced the perception of a role which bjornstrom steffansson himself denied     for example  if you google his name  you will quite easily find an authentic looking letter  which claims to be written by steffansson when he was residing at the hotel gotham in new york  directly after the disaster  and addressed to the counsel for the white star line   in fact  this letter is entirely fictional and forms a part of the teaching materials used in anderson kill s mock trial \n"
     ]
    }
   ],
   "source": [
    "test = df.get_value(random.randint(0, len(df)), 'comment_text')\n",
    "print(\"Original\", \"\\n\",test,\"\\n\")\n",
    "test = clean_text(test)\n",
    "print(\"Clean Text\",\"\\n\",test)"
   ]
  },
  {
   "cell_type": "code",
   "execution_count": 166,
   "metadata": {},
   "outputs": [],
   "source": [
    "test = create_lexicon(df)"
   ]
  },
  {
   "cell_type": "code",
   "execution_count": 167,
   "metadata": {},
   "outputs": [],
   "source": [
    "r_words, n_of_occurences = repeated_words(test, 1000)"
   ]
  },
  {
   "cell_type": "code",
   "execution_count": 168,
   "metadata": {},
   "outputs": [
    {
     "data": {
      "image/png": "[encoded data removed]",
      "text/plain": [
       "<matplotlib.figure.Figure at 0x7f360f555f28>"
      ]
     },
     "metadata": {},
     "output_type": "display_data"
    }
   ],
   "source": [
    "import matplotlib.pyplot as plt\n",
    "%matplotlib inline\n",
    "import numpy as np\n",
    "fig=plt.figure(figsize=(18, 16), dpi= 80, facecolor='w', edgecolor='k')\n",
    "y_pos = np.arange(len(r_words))\n",
    "plt.bar(y_pos, n_of_occurences, align='center')\n",
    "plt.xticks(y_pos, r_words)\n",
    "plt.ylabel('Numero de Ocorrencias')\n",
    "plt.title('Palavas com mais de 1000 Ocorrencias')\n",
    "plt.show()"
   ]
  }
 ],
 "metadata": {
  "kernelspec": {
   "display_name": "Python 3",
   "language": "python",
   "name": "python3"
  },
  "language_info": {
   "codemirror_mode": {
    "name": "ipython",
    "version": 3
   },
   "file_extension": ".py",
   "mimetype": "text/x-python",
   "name": "python",
   "nbconvert_exporter": "python",
   "pygments_lexer": "ipython3",
   "version": "3.5.2"
  }
 },
 "nbformat": 4,
 "nbformat_minor": 2
}
