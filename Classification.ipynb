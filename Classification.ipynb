{
 "cells": [
  {
   "cell_type": "code",
   "execution_count": 20,
   "metadata": {},
   "outputs": [],
   "source": [
    "import pandas as pd\n",
    "import tensorflow as tf"
   ]
  },
  {
   "cell_type": "code",
   "execution_count": 21,
   "metadata": {},
   "outputs": [
    {
     "data": {
      "text/html": [
       "<div>\n",
       "<style>\n",
       "    .dataframe thead tr:only-child th {\n",
       "        text-align: right;\n",
       "    }\n",
       "\n",
       "    .dataframe thead th {\n",
       "        text-align: left;\n",
       "    }\n",
       "\n",
       "    .dataframe tbody tr th {\n",
       "        vertical-align: top;\n",
       "    }\n",
       "</style>\n",
       "<table border=\"1\" class=\"dataframe\">\n",
       "  <thead>\n",
       "    <tr style=\"text-align: right;\">\n",
       "      <th></th>\n",
       "      <th>Number_pregnant</th>\n",
       "      <th>Glucose_concentration</th>\n",
       "      <th>Blood_pressure</th>\n",
       "      <th>Triceps</th>\n",
       "      <th>Insulin</th>\n",
       "      <th>BMI</th>\n",
       "      <th>Pedigree</th>\n",
       "      <th>Age</th>\n",
       "      <th>Class</th>\n",
       "      <th>Group</th>\n",
       "    </tr>\n",
       "  </thead>\n",
       "  <tbody>\n",
       "    <tr>\n",
       "      <th>0</th>\n",
       "      <td>6</td>\n",
       "      <td>0.743719</td>\n",
       "      <td>0.590164</td>\n",
       "      <td>0.353535</td>\n",
       "      <td>0.000000</td>\n",
       "      <td>0.500745</td>\n",
       "      <td>0.234415</td>\n",
       "      <td>50</td>\n",
       "      <td>1</td>\n",
       "      <td>B</td>\n",
       "    </tr>\n",
       "    <tr>\n",
       "      <th>1</th>\n",
       "      <td>1</td>\n",
       "      <td>0.427136</td>\n",
       "      <td>0.540984</td>\n",
       "      <td>0.292929</td>\n",
       "      <td>0.000000</td>\n",
       "      <td>0.396423</td>\n",
       "      <td>0.116567</td>\n",
       "      <td>31</td>\n",
       "      <td>0</td>\n",
       "      <td>C</td>\n",
       "    </tr>\n",
       "    <tr>\n",
       "      <th>2</th>\n",
       "      <td>8</td>\n",
       "      <td>0.919598</td>\n",
       "      <td>0.524590</td>\n",
       "      <td>0.000000</td>\n",
       "      <td>0.000000</td>\n",
       "      <td>0.347243</td>\n",
       "      <td>0.253629</td>\n",
       "      <td>32</td>\n",
       "      <td>1</td>\n",
       "      <td>B</td>\n",
       "    </tr>\n",
       "    <tr>\n",
       "      <th>3</th>\n",
       "      <td>1</td>\n",
       "      <td>0.447236</td>\n",
       "      <td>0.540984</td>\n",
       "      <td>0.232323</td>\n",
       "      <td>0.111111</td>\n",
       "      <td>0.418778</td>\n",
       "      <td>0.038002</td>\n",
       "      <td>21</td>\n",
       "      <td>0</td>\n",
       "      <td>B</td>\n",
       "    </tr>\n",
       "    <tr>\n",
       "      <th>4</th>\n",
       "      <td>0</td>\n",
       "      <td>0.688442</td>\n",
       "      <td>0.327869</td>\n",
       "      <td>0.353535</td>\n",
       "      <td>0.198582</td>\n",
       "      <td>0.642325</td>\n",
       "      <td>0.943638</td>\n",
       "      <td>33</td>\n",
       "      <td>1</td>\n",
       "      <td>C</td>\n",
       "    </tr>\n",
       "  </tbody>\n",
       "</table>\n",
       "</div>"
      ],
      "text/plain": [
       "   Number_pregnant  Glucose_concentration  Blood_pressure   Triceps   Insulin  \\\n",
       "0                6               0.743719        0.590164  0.353535  0.000000   \n",
       "1                1               0.427136        0.540984  0.292929  0.000000   \n",
       "2                8               0.919598        0.524590  0.000000  0.000000   \n",
       "3                1               0.447236        0.540984  0.232323  0.111111   \n",
       "4                0               0.688442        0.327869  0.353535  0.198582   \n",
       "\n",
       "        BMI  Pedigree  Age  Class Group  \n",
       "0  0.500745  0.234415   50      1     B  \n",
       "1  0.396423  0.116567   31      0     C  \n",
       "2  0.347243  0.253629   32      1     B  \n",
       "3  0.418778  0.038002   21      0     B  \n",
       "4  0.642325  0.943638   33      1     C  "
      ]
     },
     "execution_count": 21,
     "metadata": {},
     "output_type": "execute_result"
    }
   ],
   "source": [
    "diabetes =pd.read_csv('./data/pima-indians-diabetes.csv')\n",
    "diabetes.head()"
   ]
  },
  {
   "cell_type": "code",
   "execution_count": 22,
   "metadata": {},
   "outputs": [
    {
     "data": {
      "text/plain": [
       "Index(['Number_pregnant', 'Glucose_concentration', 'Blood_pressure', 'Triceps',\n",
       "       'Insulin', 'BMI', 'Pedigree', 'Age', 'Class', 'Group'],\n",
       "      dtype='object')"
      ]
     },
     "execution_count": 22,
     "metadata": {},
     "output_type": "execute_result"
    }
   ],
   "source": [
    "diabetes.columns"
   ]
  },
  {
   "cell_type": "code",
   "execution_count": 23,
   "metadata": {},
   "outputs": [],
   "source": [
    "cols_to_norm = ['Number_pregnant', 'Glucose_concentration', 'Blood_pressure', 'Triceps',\n",
    "       'Insulin', 'BMI', 'Pedigree']"
   ]
  },
  {
   "cell_type": "code",
   "execution_count": 24,
   "metadata": {},
   "outputs": [],
   "source": [
    "diabetes[cols_to_norm] = diabetes[cols_to_norm].apply(lambda x: (x - x.min())/ (x.max() - x.min()) )"
   ]
  },
  {
   "cell_type": "code",
   "execution_count": 25,
   "metadata": {},
   "outputs": [],
   "source": [
    "#valores continuos\n",
    "num_preg = tf.feature_column.numeric_column('Number_pregnant')\n",
    "plasma_gluc = tf.feature_column.numeric_column('Glucose_concentration')\n",
    "dias_press = tf.feature_column.numeric_column('Blood_pressure')\n",
    "tricep = tf.feature_column.numeric_column('Triceps')\n",
    "insulin = tf.feature_column.numeric_column('Insulin')\n",
    "bmi = tf.feature_column.numeric_column('BMI')\n",
    "diabetes_pedigree = tf.feature_column.numeric_column('Pedigree')\n",
    "age = tf.feature_column.numeric_column('Age')"
   ]
  },
  {
   "cell_type": "code",
   "execution_count": 26,
   "metadata": {},
   "outputs": [],
   "source": [
    "#valores categoricos\n",
    "assigned_group = tf.feature_column.categorical_column_with_vocabulary_list('Group', ['A', 'B', 'C', 'D'])"
   ]
  },
  {
   "cell_type": "code",
   "execution_count": 28,
   "metadata": {},
   "outputs": [
    {
     "data": {
      "text/plain": [
       "<matplotlib.axes._subplots.AxesSubplot at 0x7f3de2770748>"
      ]
     },
     "execution_count": 28,
     "metadata": {},
     "output_type": "execute_result"
    },
    {
     "data": {
      "image/png": "[encoded data removed]",
      "text/plain": [
       "<matplotlib.figure.Figure at 0x7f3de27ad9e8>"
      ]
     },
     "metadata": {},
     "output_type": "display_data"
    }
   ],
   "source": [
    "import matplotlib.pyplot as plt\n",
    "%matplotlib inline\n",
    "\n",
    "diabetes['Age'].hist(bins = 20)"
   ]
  },
  {
   "cell_type": "code",
   "execution_count": 29,
   "metadata": {},
   "outputs": [],
   "source": [
    "#convertendo variavel continua em variavel categorica\n",
    "age_bucket = tf.feature_column.bucketized_column(age, boundaries=[20, 30, 40, 50, 60, 70, 80])"
   ]
  },
  {
   "cell_type": "code",
   "execution_count": 30,
   "metadata": {},
   "outputs": [],
   "source": [
    "feat_cols = [num_preg, plasma_gluc, dias_press, tricep, insulin, bmi, diabetes_pedigree, assigned_group, age_bucket]"
   ]
  },
  {
   "cell_type": "code",
   "execution_count": 34,
   "metadata": {},
   "outputs": [
    {
     "data": {
      "text/html": [
       "<div>\n",
       "<style>\n",
       "    .dataframe thead tr:only-child th {\n",
       "        text-align: right;\n",
       "    }\n",
       "\n",
       "    .dataframe thead th {\n",
       "        text-align: left;\n",
       "    }\n",
       "\n",
       "    .dataframe tbody tr th {\n",
       "        vertical-align: top;\n",
       "    }\n",
       "</style>\n",
       "<table border=\"1\" class=\"dataframe\">\n",
       "  <thead>\n",
       "    <tr style=\"text-align: right;\">\n",
       "      <th></th>\n",
       "      <th>Number_pregnant</th>\n",
       "      <th>Glucose_concentration</th>\n",
       "      <th>Blood_pressure</th>\n",
       "      <th>Triceps</th>\n",
       "      <th>Insulin</th>\n",
       "      <th>BMI</th>\n",
       "      <th>Pedigree</th>\n",
       "      <th>Age</th>\n",
       "      <th>Group</th>\n",
       "    </tr>\n",
       "  </thead>\n",
       "  <tbody>\n",
       "    <tr>\n",
       "      <th>0</th>\n",
       "      <td>0.352941</td>\n",
       "      <td>0.743719</td>\n",
       "      <td>0.590164</td>\n",
       "      <td>0.353535</td>\n",
       "      <td>0.000000</td>\n",
       "      <td>0.500745</td>\n",
       "      <td>0.234415</td>\n",
       "      <td>50</td>\n",
       "      <td>B</td>\n",
       "    </tr>\n",
       "    <tr>\n",
       "      <th>1</th>\n",
       "      <td>0.058824</td>\n",
       "      <td>0.427136</td>\n",
       "      <td>0.540984</td>\n",
       "      <td>0.292929</td>\n",
       "      <td>0.000000</td>\n",
       "      <td>0.396423</td>\n",
       "      <td>0.116567</td>\n",
       "      <td>31</td>\n",
       "      <td>C</td>\n",
       "    </tr>\n",
       "    <tr>\n",
       "      <th>2</th>\n",
       "      <td>0.470588</td>\n",
       "      <td>0.919598</td>\n",
       "      <td>0.524590</td>\n",
       "      <td>0.000000</td>\n",
       "      <td>0.000000</td>\n",
       "      <td>0.347243</td>\n",
       "      <td>0.253629</td>\n",
       "      <td>32</td>\n",
       "      <td>B</td>\n",
       "    </tr>\n",
       "    <tr>\n",
       "      <th>3</th>\n",
       "      <td>0.058824</td>\n",
       "      <td>0.447236</td>\n",
       "      <td>0.540984</td>\n",
       "      <td>0.232323</td>\n",
       "      <td>0.111111</td>\n",
       "      <td>0.418778</td>\n",
       "      <td>0.038002</td>\n",
       "      <td>21</td>\n",
       "      <td>B</td>\n",
       "    </tr>\n",
       "    <tr>\n",
       "      <th>4</th>\n",
       "      <td>0.000000</td>\n",
       "      <td>0.688442</td>\n",
       "      <td>0.327869</td>\n",
       "      <td>0.353535</td>\n",
       "      <td>0.198582</td>\n",
       "      <td>0.642325</td>\n",
       "      <td>0.943638</td>\n",
       "      <td>33</td>\n",
       "      <td>C</td>\n",
       "    </tr>\n",
       "  </tbody>\n",
       "</table>\n",
       "</div>"
      ],
      "text/plain": [
       "   Number_pregnant  Glucose_concentration  Blood_pressure   Triceps   Insulin  \\\n",
       "0         0.352941               0.743719        0.590164  0.353535  0.000000   \n",
       "1         0.058824               0.427136        0.540984  0.292929  0.000000   \n",
       "2         0.470588               0.919598        0.524590  0.000000  0.000000   \n",
       "3         0.058824               0.447236        0.540984  0.232323  0.111111   \n",
       "4         0.000000               0.688442        0.327869  0.353535  0.198582   \n",
       "\n",
       "        BMI  Pedigree  Age Group  \n",
       "0  0.500745  0.234415   50     B  \n",
       "1  0.396423  0.116567   31     C  \n",
       "2  0.347243  0.253629   32     B  \n",
       "3  0.418778  0.038002   21     B  \n",
       "4  0.642325  0.943638   33     C  "
      ]
     },
     "execution_count": 34,
     "metadata": {},
     "output_type": "execute_result"
    }
   ],
   "source": [
    "#separando dados de teste e treino\n",
    "\n",
    "x_data = diabetes.drop('Class', axis=1)\n",
    "x_data.head()"
   ]
  },
  {
   "cell_type": "code",
   "execution_count": 35,
   "metadata": {},
   "outputs": [],
   "source": [
    "labels = diabetes['Class']"
   ]
  },
  {
   "cell_type": "code",
   "execution_count": 36,
   "metadata": {},
   "outputs": [],
   "source": [
    "from sklearn.model_selection import  train_test_split"
   ]
  },
  {
   "cell_type": "code",
   "execution_count": 37,
   "metadata": {},
   "outputs": [],
   "source": [
    "X_train, X_test, y_train, y_test = train_test_split(x_data, labels, test_size=0.3,random_state=101)"
   ]
  },
  {
   "cell_type": "code",
   "execution_count": 38,
   "metadata": {},
   "outputs": [],
   "source": [
    "input_func = tf.estimator.inputs.pandas_input_fn(x=X_train, y = y_train, batch_size = 10, num_epochs=1000, shuffle=True)"
   ]
  },
  {
   "cell_type": "code",
   "execution_count": 39,
   "metadata": {},
   "outputs": [
    {
     "name": "stdout",
     "output_type": "stream",
     "text": [
      "INFO:tensorflow:Using default config.\n"
     ]
    },
    {
     "name": "stderr",
     "output_type": "stream",
     "text": [
      "INFO:tensorflow:Using default config.\n"
     ]
    },
    {
     "name": "stdout",
     "output_type": "stream",
     "text": [
      "WARNING:tensorflow:Using temporary folder as model directory: /tmp/tmp9f0yo736\n"
     ]
    },
    {
     "name": "stderr",
     "output_type": "stream",
     "text": [
      "WARNING:tensorflow:Using temporary folder as model directory: /tmp/tmp9f0yo736\n"
     ]
    },
    {
     "name": "stdout",
     "output_type": "stream",
     "text": [
      "INFO:tensorflow:Using config: {'_save_checkpoints_secs': 600, '_keep_checkpoint_max': 5, '_session_config': None, '_model_dir': '/tmp/tmp9f0yo736', '_save_checkpoints_steps': None, '_keep_checkpoint_every_n_hours': 10000, '_save_summary_steps': 100, '_tf_random_seed': 1, '_log_step_count_steps': 100}\n"
     ]
    },
    {
     "name": "stderr",
     "output_type": "stream",
     "text": [
      "INFO:tensorflow:Using config: {'_save_checkpoints_secs': 600, '_keep_checkpoint_max': 5, '_session_config': None, '_model_dir': '/tmp/tmp9f0yo736', '_save_checkpoints_steps': None, '_keep_checkpoint_every_n_hours': 10000, '_save_summary_steps': 100, '_tf_random_seed': 1, '_log_step_count_steps': 100}\n"
     ]
    }
   ],
   "source": [
    "model = tf.estimator.LinearClassifier(feature_columns=feat_cols, n_classes=2)"
   ]
  },
  {
   "cell_type": "code",
   "execution_count": 40,
   "metadata": {},
   "outputs": [
    {
     "name": "stdout",
     "output_type": "stream",
     "text": [
      "INFO:tensorflow:Create CheckpointSaverHook.\n"
     ]
    },
    {
     "name": "stderr",
     "output_type": "stream",
     "text": [
      "INFO:tensorflow:Create CheckpointSaverHook.\n"
     ]
    },
    {
     "name": "stdout",
     "output_type": "stream",
     "text": [
      "INFO:tensorflow:Saving checkpoints for 1 into /tmp/tmp9f0yo736/model.ckpt.\n"
     ]
    },
    {
     "name": "stderr",
     "output_type": "stream",
     "text": [
      "INFO:tensorflow:Saving checkpoints for 1 into /tmp/tmp9f0yo736/model.ckpt.\n"
     ]
    },
    {
     "name": "stdout",
     "output_type": "stream",
     "text": [
      "INFO:tensorflow:loss = 6.93147, step = 1\n"
     ]
    },
    {
     "name": "stderr",
     "output_type": "stream",
     "text": [
      "INFO:tensorflow:loss = 6.93147, step = 1\n"
     ]
    },
    {
     "name": "stdout",
     "output_type": "stream",
     "text": [
      "INFO:tensorflow:global_step/sec: 154.838\n"
     ]
    },
    {
     "name": "stderr",
     "output_type": "stream",
     "text": [
      "INFO:tensorflow:global_step/sec: 154.838\n"
     ]
    },
    {
     "name": "stdout",
     "output_type": "stream",
     "text": [
      "INFO:tensorflow:loss = 5.59509, step = 101 (0.647 sec)\n"
     ]
    },
    {
     "name": "stderr",
     "output_type": "stream",
     "text": [
      "INFO:tensorflow:loss = 5.59509, step = 101 (0.647 sec)\n"
     ]
    },
    {
     "name": "stdout",
     "output_type": "stream",
     "text": [
      "INFO:tensorflow:global_step/sec: 177.673\n"
     ]
    },
    {
     "name": "stderr",
     "output_type": "stream",
     "text": [
      "INFO:tensorflow:global_step/sec: 177.673\n"
     ]
    },
    {
     "name": "stdout",
     "output_type": "stream",
     "text": [
      "INFO:tensorflow:loss = 7.4012, step = 201 (0.563 sec)\n"
     ]
    },
    {
     "name": "stderr",
     "output_type": "stream",
     "text": [
      "INFO:tensorflow:loss = 7.4012, step = 201 (0.563 sec)\n"
     ]
    },
    {
     "name": "stdout",
     "output_type": "stream",
     "text": [
      "INFO:tensorflow:global_step/sec: 133.581\n"
     ]
    },
    {
     "name": "stderr",
     "output_type": "stream",
     "text": [
      "INFO:tensorflow:global_step/sec: 133.581\n"
     ]
    },
    {
     "name": "stdout",
     "output_type": "stream",
     "text": [
      "INFO:tensorflow:loss = 3.09848, step = 301 (0.752 sec)\n"
     ]
    },
    {
     "name": "stderr",
     "output_type": "stream",
     "text": [
      "INFO:tensorflow:loss = 3.09848, step = 301 (0.752 sec)\n"
     ]
    },
    {
     "name": "stdout",
     "output_type": "stream",
     "text": [
      "INFO:tensorflow:global_step/sec: 102.474\n"
     ]
    },
    {
     "name": "stderr",
     "output_type": "stream",
     "text": [
      "INFO:tensorflow:global_step/sec: 102.474\n"
     ]
    },
    {
     "name": "stdout",
     "output_type": "stream",
     "text": [
      "INFO:tensorflow:loss = 3.72715, step = 401 (0.977 sec)\n"
     ]
    },
    {
     "name": "stderr",
     "output_type": "stream",
     "text": [
      "INFO:tensorflow:loss = 3.72715, step = 401 (0.977 sec)\n"
     ]
    },
    {
     "name": "stdout",
     "output_type": "stream",
     "text": [
      "INFO:tensorflow:global_step/sec: 178.021\n"
     ]
    },
    {
     "name": "stderr",
     "output_type": "stream",
     "text": [
      "INFO:tensorflow:global_step/sec: 178.021\n"
     ]
    },
    {
     "name": "stdout",
     "output_type": "stream",
     "text": [
      "INFO:tensorflow:loss = 5.39925, step = 501 (0.556 sec)\n"
     ]
    },
    {
     "name": "stderr",
     "output_type": "stream",
     "text": [
      "INFO:tensorflow:loss = 5.39925, step = 501 (0.556 sec)\n"
     ]
    },
    {
     "name": "stdout",
     "output_type": "stream",
     "text": [
      "INFO:tensorflow:global_step/sec: 192.884\n"
     ]
    },
    {
     "name": "stderr",
     "output_type": "stream",
     "text": [
      "INFO:tensorflow:global_step/sec: 192.884\n"
     ]
    },
    {
     "name": "stdout",
     "output_type": "stream",
     "text": [
      "INFO:tensorflow:loss = 5.82738, step = 601 (0.519 sec)\n"
     ]
    },
    {
     "name": "stderr",
     "output_type": "stream",
     "text": [
      "INFO:tensorflow:loss = 5.82738, step = 601 (0.519 sec)\n"
     ]
    },
    {
     "name": "stdout",
     "output_type": "stream",
     "text": [
      "INFO:tensorflow:global_step/sec: 170.646\n"
     ]
    },
    {
     "name": "stderr",
     "output_type": "stream",
     "text": [
      "INFO:tensorflow:global_step/sec: 170.646\n"
     ]
    },
    {
     "name": "stdout",
     "output_type": "stream",
     "text": [
      "INFO:tensorflow:loss = 3.57151, step = 701 (0.586 sec)\n"
     ]
    },
    {
     "name": "stderr",
     "output_type": "stream",
     "text": [
      "INFO:tensorflow:loss = 3.57151, step = 701 (0.586 sec)\n"
     ]
    },
    {
     "name": "stdout",
     "output_type": "stream",
     "text": [
      "INFO:tensorflow:global_step/sec: 117.859\n"
     ]
    },
    {
     "name": "stderr",
     "output_type": "stream",
     "text": [
      "INFO:tensorflow:global_step/sec: 117.859\n"
     ]
    },
    {
     "name": "stdout",
     "output_type": "stream",
     "text": [
      "INFO:tensorflow:loss = 5.3546, step = 801 (0.848 sec)\n"
     ]
    },
    {
     "name": "stderr",
     "output_type": "stream",
     "text": [
      "INFO:tensorflow:loss = 5.3546, step = 801 (0.848 sec)\n"
     ]
    },
    {
     "name": "stdout",
     "output_type": "stream",
     "text": [
      "INFO:tensorflow:global_step/sec: 144.305\n"
     ]
    },
    {
     "name": "stderr",
     "output_type": "stream",
     "text": [
      "INFO:tensorflow:global_step/sec: 144.305\n"
     ]
    },
    {
     "name": "stdout",
     "output_type": "stream",
     "text": [
      "INFO:tensorflow:loss = 6.32294, step = 901 (0.697 sec)\n"
     ]
    },
    {
     "name": "stderr",
     "output_type": "stream",
     "text": [
      "INFO:tensorflow:loss = 6.32294, step = 901 (0.697 sec)\n"
     ]
    },
    {
     "name": "stdout",
     "output_type": "stream",
     "text": [
      "INFO:tensorflow:Saving checkpoints for 1000 into /tmp/tmp9f0yo736/model.ckpt.\n"
     ]
    },
    {
     "name": "stderr",
     "output_type": "stream",
     "text": [
      "INFO:tensorflow:Saving checkpoints for 1000 into /tmp/tmp9f0yo736/model.ckpt.\n"
     ]
    },
    {
     "name": "stdout",
     "output_type": "stream",
     "text": [
      "INFO:tensorflow:Loss for final step: 4.79872.\n"
     ]
    },
    {
     "name": "stderr",
     "output_type": "stream",
     "text": [
      "INFO:tensorflow:Loss for final step: 4.79872.\n"
     ]
    },
    {
     "data": {
      "text/plain": [
       "<tensorflow.python.estimator.canned.linear.LinearClassifier at 0x7f3dd736e208>"
      ]
     },
     "execution_count": 40,
     "metadata": {},
     "output_type": "execute_result"
    }
   ],
   "source": [
    "model.train(input_fn = input_func, steps=1000)"
   ]
  },
  {
   "cell_type": "code",
   "execution_count": 41,
   "metadata": {},
   "outputs": [],
   "source": [
    "eval_input_func = tf.estimator.inputs.pandas_input_fn(x=X_test, y=y_test, batch_size=10, num_epochs=1, shuffle=False)"
   ]
  },
  {
   "cell_type": "code",
   "execution_count": 42,
   "metadata": {},
   "outputs": [
    {
     "name": "stdout",
     "output_type": "stream",
     "text": [
      "WARNING:tensorflow:Casting <dtype: 'float32'> labels to bool.\n"
     ]
    },
    {
     "name": "stderr",
     "output_type": "stream",
     "text": [
      "WARNING:tensorflow:Casting <dtype: 'float32'> labels to bool.\n"
     ]
    },
    {
     "name": "stdout",
     "output_type": "stream",
     "text": [
      "WARNING:tensorflow:Casting <dtype: 'float32'> labels to bool.\n"
     ]
    },
    {
     "name": "stderr",
     "output_type": "stream",
     "text": [
      "WARNING:tensorflow:Casting <dtype: 'float32'> labels to bool.\n"
     ]
    },
    {
     "name": "stdout",
     "output_type": "stream",
     "text": [
      "INFO:tensorflow:Starting evaluation at 2018-02-12-20:17:17\n"
     ]
    },
    {
     "name": "stderr",
     "output_type": "stream",
     "text": [
      "INFO:tensorflow:Starting evaluation at 2018-02-12-20:17:17\n"
     ]
    },
    {
     "name": "stdout",
     "output_type": "stream",
     "text": [
      "INFO:tensorflow:Restoring parameters from /tmp/tmp9f0yo736/model.ckpt-1000\n"
     ]
    },
    {
     "name": "stderr",
     "output_type": "stream",
     "text": [
      "INFO:tensorflow:Restoring parameters from /tmp/tmp9f0yo736/model.ckpt-1000\n"
     ]
    },
    {
     "name": "stdout",
     "output_type": "stream",
     "text": [
      "INFO:tensorflow:Finished evaluation at 2018-02-12-20:17:17\n"
     ]
    },
    {
     "name": "stderr",
     "output_type": "stream",
     "text": [
      "INFO:tensorflow:Finished evaluation at 2018-02-12-20:17:17\n"
     ]
    },
    {
     "name": "stdout",
     "output_type": "stream",
     "text": [
      "INFO:tensorflow:Saving dict for global step 1000: accuracy = 0.735931, accuracy_baseline = 0.649351, auc = 0.806626, auc_precision_recall = 0.653802, average_loss = 0.529168, global_step = 1000, label/mean = 0.350649, loss = 5.09324, prediction/mean = 0.407441\n"
     ]
    },
    {
     "name": "stderr",
     "output_type": "stream",
     "text": [
      "INFO:tensorflow:Saving dict for global step 1000: accuracy = 0.735931, accuracy_baseline = 0.649351, auc = 0.806626, auc_precision_recall = 0.653802, average_loss = 0.529168, global_step = 1000, label/mean = 0.350649, loss = 5.09324, prediction/mean = 0.407441\n"
     ]
    }
   ],
   "source": [
    "results = model.evaluate(eval_input_func)"
   ]
  },
  {
   "cell_type": "code",
   "execution_count": 43,
   "metadata": {},
   "outputs": [
    {
     "data": {
      "text/plain": [
       "{'accuracy': 0.73593074,\n",
       " 'accuracy_baseline': 0.64935064,\n",
       " 'auc': 0.80662555,\n",
       " 'auc_precision_recall': 0.65380234,\n",
       " 'average_loss': 0.52916801,\n",
       " 'global_step': 1000,\n",
       " 'label/mean': 0.35064936,\n",
       " 'loss': 5.0932422,\n",
       " 'prediction/mean': 0.4074409}"
      ]
     },
     "execution_count": 43,
     "metadata": {},
     "output_type": "execute_result"
    }
   ],
   "source": [
    "results"
   ]
  },
  {
   "cell_type": "code",
   "execution_count": 44,
   "metadata": {},
   "outputs": [],
   "source": [
    "pred_input_func = tf.estimator.inputs.pandas_input_fn(x=X_test, batch_size=10, num_epochs=1, shuffle=False)"
   ]
  },
  {
   "cell_type": "code",
   "execution_count": 45,
   "metadata": {},
   "outputs": [],
   "source": [
    "predictions = model.predict(pred_input_func)"
   ]
  },
  {
   "cell_type": "code",
   "execution_count": 47,
   "metadata": {},
   "outputs": [
    {
     "name": "stdout",
     "output_type": "stream",
     "text": [
      "INFO:tensorflow:Restoring parameters from /tmp/tmp9f0yo736/model.ckpt-1000\n"
     ]
    },
    {
     "name": "stderr",
     "output_type": "stream",
     "text": [
      "INFO:tensorflow:Restoring parameters from /tmp/tmp9f0yo736/model.ckpt-1000\n"
     ]
    },
    {
     "data": {
      "text/plain": [
       "[{'class_ids': array([1]),\n",
       "  'classes': array([b'1'], dtype=object),\n",
       "  'logistic': array([ 0.59361225], dtype=float32),\n",
       "  'logits': array([ 0.37891853], dtype=float32),\n",
       "  'probabilities': array([ 0.40638775,  0.59361225], dtype=float32)},\n",
       " {'class_ids': array([1]),\n",
       "  'classes': array([b'1'], dtype=object),\n",
       "  'logistic': array([ 0.68418461], dtype=float32),\n",
       "  'logits': array([ 0.77306974], dtype=float32),\n",
       "  'probabilities': array([ 0.31581545,  0.68418461], dtype=float32)},\n",
       " {'class_ids': array([0]),\n",
       "  'classes': array([b'0'], dtype=object),\n",
       "  'logistic': array([ 0.4214204], dtype=float32),\n",
       "  'logits': array([-0.31694531], dtype=float32),\n",
       "  'probabilities': array([ 0.5785796 ,  0.42142037], dtype=float32)},\n",
       " {'class_ids': array([0]),\n",
       "  'classes': array([b'0'], dtype=object),\n",
       "  'logistic': array([ 0.39936155], dtype=float32),\n",
       "  'logits': array([-0.40812594], dtype=float32),\n",
       "  'probabilities': array([ 0.60063845,  0.39936158], dtype=float32)},\n",
       " {'class_ids': array([0]),\n",
       "  'classes': array([b'0'], dtype=object),\n",
       "  'logistic': array([ 0.17987567], dtype=float32),\n",
       "  'logits': array([-1.51718998], dtype=float32),\n",
       "  'probabilities': array([ 0.82012433,  0.17987569], dtype=float32)},\n",
       " {'class_ids': array([1]),\n",
       "  'classes': array([b'1'], dtype=object),\n",
       "  'logistic': array([ 0.75547147], dtype=float32),\n",
       "  'logits': array([ 1.12801003], dtype=float32),\n",
       "  'probabilities': array([ 0.24452853,  0.75547147], dtype=float32)},\n",
       " {'class_ids': array([1]),\n",
       "  'classes': array([b'1'], dtype=object),\n",
       "  'logistic': array([ 0.65326136], dtype=float32),\n",
       "  'logits': array([ 0.63340592], dtype=float32),\n",
       "  'probabilities': array([ 0.34673867,  0.65326136], dtype=float32)},\n",
       " {'class_ids': array([0]),\n",
       "  'classes': array([b'0'], dtype=object),\n",
       "  'logistic': array([ 0.37013331], dtype=float32),\n",
       "  'logits': array([-0.53164488], dtype=float32),\n",
       "  'probabilities': array([ 0.62986666,  0.37013331], dtype=float32)},\n",
       " {'class_ids': array([0]),\n",
       "  'classes': array([b'0'], dtype=object),\n",
       "  'logistic': array([ 0.27697277], dtype=float32),\n",
       "  'logits': array([-0.95952773], dtype=float32),\n",
       "  'probabilities': array([ 0.72302723,  0.27697274], dtype=float32)},\n",
       " {'class_ids': array([0]),\n",
       "  'classes': array([b'0'], dtype=object),\n",
       "  'logistic': array([ 0.27005103], dtype=float32),\n",
       "  'logits': array([-0.99436367], dtype=float32),\n",
       "  'probabilities': array([ 0.729949  ,  0.27005103], dtype=float32)},\n",
       " {'class_ids': array([0]),\n",
       "  'classes': array([b'0'], dtype=object),\n",
       "  'logistic': array([ 0.15536158], dtype=float32),\n",
       "  'logits': array([-1.6931535], dtype=float32),\n",
       "  'probabilities': array([ 0.84463847,  0.15536159], dtype=float32)},\n",
       " {'class_ids': array([0]),\n",
       "  'classes': array([b'0'], dtype=object),\n",
       "  'logistic': array([ 0.19303325], dtype=float32),\n",
       "  'logits': array([-1.43042004], dtype=float32),\n",
       "  'probabilities': array([ 0.80696672,  0.19303325], dtype=float32)},\n",
       " {'class_ids': array([0]),\n",
       "  'classes': array([b'0'], dtype=object),\n",
       "  'logistic': array([ 0.32890707], dtype=float32),\n",
       "  'logits': array([-0.71313238], dtype=float32),\n",
       "  'probabilities': array([ 0.67109293,  0.32890707], dtype=float32)},\n",
       " {'class_ids': array([1]),\n",
       "  'classes': array([b'1'], dtype=object),\n",
       "  'logistic': array([ 0.62220329], dtype=float32),\n",
       "  'logits': array([ 0.49891043], dtype=float32),\n",
       "  'probabilities': array([ 0.37779677,  0.62220329], dtype=float32)},\n",
       " {'class_ids': array([0]),\n",
       "  'classes': array([b'0'], dtype=object),\n",
       "  'logistic': array([ 0.21101764], dtype=float32),\n",
       "  'logits': array([-1.31880212], dtype=float32),\n",
       "  'probabilities': array([ 0.78898233,  0.21101765], dtype=float32)},\n",
       " {'class_ids': array([0]),\n",
       "  'classes': array([b'0'], dtype=object),\n",
       "  'logistic': array([ 0.40032101], dtype=float32),\n",
       "  'logits': array([-0.40412784], dtype=float32),\n",
       "  'probabilities': array([ 0.59967905,  0.40032098], dtype=float32)},\n",
       " {'class_ids': array([0]),\n",
       "  'classes': array([b'0'], dtype=object),\n",
       "  'logistic': array([ 0.43067649], dtype=float32),\n",
       "  'logits': array([-0.27909172], dtype=float32),\n",
       "  'probabilities': array([ 0.56932354,  0.43067646], dtype=float32)},\n",
       " {'class_ids': array([0]),\n",
       "  'classes': array([b'0'], dtype=object),\n",
       "  'logistic': array([ 0.1518925], dtype=float32),\n",
       "  'logits': array([-1.71983433], dtype=float32),\n",
       "  'probabilities': array([ 0.84810746,  0.1518925 ], dtype=float32)},\n",
       " {'class_ids': array([0]),\n",
       "  'classes': array([b'0'], dtype=object),\n",
       "  'logistic': array([ 0.40541786], dtype=float32),\n",
       "  'logits': array([-0.38294053], dtype=float32),\n",
       "  'probabilities': array([ 0.59458214,  0.40541786], dtype=float32)},\n",
       " {'class_ids': array([0]),\n",
       "  'classes': array([b'0'], dtype=object),\n",
       "  'logistic': array([ 0.1762097], dtype=float32),\n",
       "  'logits': array([-1.54224122], dtype=float32),\n",
       "  'probabilities': array([ 0.82379031,  0.1762097 ], dtype=float32)},\n",
       " {'class_ids': array([0]),\n",
       "  'classes': array([b'0'], dtype=object),\n",
       "  'logistic': array([ 0.25244081], dtype=float32),\n",
       "  'logits': array([-1.08563673], dtype=float32),\n",
       "  'probabilities': array([ 0.74755913,  0.25244078], dtype=float32)},\n",
       " {'class_ids': array([0]),\n",
       "  'classes': array([b'0'], dtype=object),\n",
       "  'logistic': array([ 0.34062105], dtype=float32),\n",
       "  'logits': array([-0.66052788], dtype=float32),\n",
       "  'probabilities': array([ 0.65937895,  0.34062102], dtype=float32)},\n",
       " {'class_ids': array([1]),\n",
       "  'classes': array([b'1'], dtype=object),\n",
       "  'logistic': array([ 0.69979548], dtype=float32),\n",
       "  'logits': array([ 0.84632409], dtype=float32),\n",
       "  'probabilities': array([ 0.30020452,  0.69979548], dtype=float32)},\n",
       " {'class_ids': array([0]),\n",
       "  'classes': array([b'0'], dtype=object),\n",
       "  'logistic': array([ 0.26514092], dtype=float32),\n",
       "  'logits': array([-1.01941729], dtype=float32),\n",
       "  'probabilities': array([ 0.73485905,  0.26514092], dtype=float32)},\n",
       " {'class_ids': array([0]),\n",
       "  'classes': array([b'0'], dtype=object),\n",
       "  'logistic': array([ 0.21278179], dtype=float32),\n",
       "  'logits': array([-1.30823827], dtype=float32),\n",
       "  'probabilities': array([ 0.78721821,  0.2127818 ], dtype=float32)},\n",
       " {'class_ids': array([1]),\n",
       "  'classes': array([b'1'], dtype=object),\n",
       "  'logistic': array([ 0.81269556], dtype=float32),\n",
       "  'logits': array([ 1.46762156], dtype=float32),\n",
       "  'probabilities': array([ 0.18730436,  0.81269556], dtype=float32)},\n",
       " {'class_ids': array([0]),\n",
       "  'classes': array([b'0'], dtype=object),\n",
       "  'logistic': array([ 0.20293349], dtype=float32),\n",
       "  'logits': array([-1.36805987], dtype=float32),\n",
       "  'probabilities': array([ 0.79706651,  0.20293348], dtype=float32)},\n",
       " {'class_ids': array([0]),\n",
       "  'classes': array([b'0'], dtype=object),\n",
       "  'logistic': array([ 0.37235874], dtype=float32),\n",
       "  'logits': array([-0.52211112], dtype=float32),\n",
       "  'probabilities': array([ 0.62764132,  0.37235874], dtype=float32)},\n",
       " {'class_ids': array([0]),\n",
       "  'classes': array([b'0'], dtype=object),\n",
       "  'logistic': array([ 0.12057892], dtype=float32),\n",
       "  'logits': array([-1.98695934], dtype=float32),\n",
       "  'probabilities': array([ 0.87942111,  0.12057891], dtype=float32)},\n",
       " {'class_ids': array([1]),\n",
       "  'classes': array([b'1'], dtype=object),\n",
       "  'logistic': array([ 0.63473833], dtype=float32),\n",
       "  'logits': array([ 0.55259883], dtype=float32),\n",
       "  'probabilities': array([ 0.36526167,  0.63473833], dtype=float32)},\n",
       " {'class_ids': array([1]),\n",
       "  'classes': array([b'1'], dtype=object),\n",
       "  'logistic': array([ 0.95561528], dtype=float32),\n",
       "  'logits': array([ 3.06945992], dtype=float32),\n",
       "  'probabilities': array([ 0.04438473,  0.95561528], dtype=float32)},\n",
       " {'class_ids': array([0]),\n",
       "  'classes': array([b'0'], dtype=object),\n",
       "  'logistic': array([ 0.47160372], dtype=float32),\n",
       "  'logits': array([-0.11370754], dtype=float32),\n",
       "  'probabilities': array([ 0.52839631,  0.47160375], dtype=float32)},\n",
       " {'class_ids': array([0]),\n",
       "  'classes': array([b'0'], dtype=object),\n",
       "  'logistic': array([ 0.38849968], dtype=float32),\n",
       "  'logits': array([-0.45362306], dtype=float32),\n",
       "  'probabilities': array([ 0.61150032,  0.38849971], dtype=float32)},\n",
       " {'class_ids': array([1]),\n",
       "  'classes': array([b'1'], dtype=object),\n",
       "  'logistic': array([ 0.58746964], dtype=float32),\n",
       "  'logits': array([ 0.35351467], dtype=float32),\n",
       "  'probabilities': array([ 0.41253039,  0.58746964], dtype=float32)},\n",
       " {'class_ids': array([0]),\n",
       "  'classes': array([b'0'], dtype=object),\n",
       "  'logistic': array([ 0.28565553], dtype=float32),\n",
       "  'logits': array([-0.91657865], dtype=float32),\n",
       "  'probabilities': array([ 0.7143445 ,  0.28565553], dtype=float32)},\n",
       " {'class_ids': array([0]),\n",
       "  'classes': array([b'0'], dtype=object),\n",
       "  'logistic': array([ 0.42472768], dtype=float32),\n",
       "  'logits': array([-0.30339533], dtype=float32),\n",
       "  'probabilities': array([ 0.57527232,  0.42472765], dtype=float32)},\n",
       " {'class_ids': array([1]),\n",
       "  'classes': array([b'1'], dtype=object),\n",
       "  'logistic': array([ 0.55206639], dtype=float32),\n",
       "  'logits': array([ 0.20902336], dtype=float32),\n",
       "  'probabilities': array([ 0.44793355,  0.55206639], dtype=float32)},\n",
       " {'class_ids': array([1]),\n",
       "  'classes': array([b'1'], dtype=object),\n",
       "  'logistic': array([ 0.66175252], dtype=float32),\n",
       "  'logits': array([ 0.67111397], dtype=float32),\n",
       "  'probabilities': array([ 0.33824742,  0.66175252], dtype=float32)},\n",
       " {'class_ids': array([1]),\n",
       "  'classes': array([b'1'], dtype=object),\n",
       "  'logistic': array([ 0.80373585], dtype=float32),\n",
       "  'logits': array([ 1.40980911], dtype=float32),\n",
       "  'probabilities': array([ 0.19626416,  0.80373585], dtype=float32)},\n",
       " {'class_ids': array([0]),\n",
       "  'classes': array([b'0'], dtype=object),\n",
       "  'logistic': array([ 0.3823441], dtype=float32),\n",
       "  'logits': array([-0.47961056], dtype=float32),\n",
       "  'probabilities': array([ 0.61765593,  0.3823441 ], dtype=float32)},\n",
       " {'class_ids': array([0]),\n",
       "  'classes': array([b'0'], dtype=object),\n",
       "  'logistic': array([ 0.20916706], dtype=float32),\n",
       "  'logits': array([-1.32995343], dtype=float32),\n",
       "  'probabilities': array([ 0.79083288,  0.20916706], dtype=float32)},\n",
       " {'class_ids': array([1]),\n",
       "  'classes': array([b'1'], dtype=object),\n",
       "  'logistic': array([ 0.59368366], dtype=float32),\n",
       "  'logits': array([ 0.37921476], dtype=float32),\n",
       "  'probabilities': array([ 0.40631625,  0.59368366], dtype=float32)},\n",
       " {'class_ids': array([0]),\n",
       "  'classes': array([b'0'], dtype=object),\n",
       "  'logistic': array([ 0.18449353], dtype=float32),\n",
       "  'logits': array([-1.48619497], dtype=float32),\n",
       "  'probabilities': array([ 0.81550652,  0.18449353], dtype=float32)},\n",
       " {'class_ids': array([1]),\n",
       "  'classes': array([b'1'], dtype=object),\n",
       "  'logistic': array([ 0.57129359], dtype=float32),\n",
       "  'logits': array([ 0.28713083], dtype=float32),\n",
       "  'probabilities': array([ 0.42870644,  0.57129359], dtype=float32)},\n",
       " {'class_ids': array([0]),\n",
       "  'classes': array([b'0'], dtype=object),\n",
       "  'logistic': array([ 0.16566534], dtype=float32),\n",
       "  'logits': array([-1.61666489], dtype=float32),\n",
       "  'probabilities': array([ 0.83433467,  0.16566534], dtype=float32)},\n",
       " {'class_ids': array([0]),\n",
       "  'classes': array([b'0'], dtype=object),\n",
       "  'logistic': array([ 0.13999531], dtype=float32),\n",
       "  'logits': array([-1.81532896], dtype=float32),\n",
       "  'probabilities': array([ 0.86000472,  0.13999531], dtype=float32)},\n",
       " {'class_ids': array([1]),\n",
       "  'classes': array([b'1'], dtype=object),\n",
       "  'logistic': array([ 0.64913708], dtype=float32),\n",
       "  'logits': array([ 0.61524856], dtype=float32),\n",
       "  'probabilities': array([ 0.35086283,  0.64913708], dtype=float32)},\n",
       " {'class_ids': array([0]),\n",
       "  'classes': array([b'0'], dtype=object),\n",
       "  'logistic': array([ 0.22626269], dtype=float32),\n",
       "  'logits': array([-1.2295357], dtype=float32),\n",
       "  'probabilities': array([ 0.77373731,  0.2262627 ], dtype=float32)},\n",
       " {'class_ids': array([0]),\n",
       "  'classes': array([b'0'], dtype=object),\n",
       "  'logistic': array([ 0.23344199], dtype=float32),\n",
       "  'logits': array([-1.18897676], dtype=float32),\n",
       "  'probabilities': array([ 0.76655799,  0.23344198], dtype=float32)},\n",
       " {'class_ids': array([0]),\n",
       "  'classes': array([b'0'], dtype=object),\n",
       "  'logistic': array([ 0.14647751], dtype=float32),\n",
       "  'logits': array([-1.76250005], dtype=float32),\n",
       "  'probabilities': array([ 0.85352254,  0.14647751], dtype=float32)},\n",
       " {'class_ids': array([0]),\n",
       "  'classes': array([b'0'], dtype=object),\n",
       "  'logistic': array([ 0.21614745], dtype=float32),\n",
       "  'logits': array([-1.28826022], dtype=float32),\n",
       "  'probabilities': array([ 0.78385252,  0.21614741], dtype=float32)},\n",
       " {'class_ids': array([0]),\n",
       "  'classes': array([b'0'], dtype=object),\n",
       "  'logistic': array([ 0.28368172], dtype=float32),\n",
       "  'logits': array([-0.92627168], dtype=float32),\n",
       "  'probabilities': array([ 0.71631831,  0.28368172], dtype=float32)},\n",
       " {'class_ids': array([0]),\n",
       "  'classes': array([b'0'], dtype=object),\n",
       "  'logistic': array([ 0.31151253], dtype=float32),\n",
       "  'logits': array([-0.79305762], dtype=float32),\n",
       "  'probabilities': array([ 0.68848747,  0.3115125 ], dtype=float32)},\n",
       " {'class_ids': array([0]),\n",
       "  'classes': array([b'0'], dtype=object),\n",
       "  'logistic': array([ 0.4128117], dtype=float32),\n",
       "  'logits': array([-0.35235393], dtype=float32),\n",
       "  'probabilities': array([ 0.58718824,  0.41281167], dtype=float32)},\n",
       " {'class_ids': array([0]),\n",
       "  'classes': array([b'0'], dtype=object),\n",
       "  'logistic': array([ 0.15003361], dtype=float32),\n",
       "  'logits': array([-1.73433757], dtype=float32),\n",
       "  'probabilities': array([ 0.84996635,  0.15003359], dtype=float32)},\n",
       " {'class_ids': array([0]),\n",
       "  'classes': array([b'0'], dtype=object),\n",
       "  'logistic': array([ 0.27789959], dtype=float32),\n",
       "  'logits': array([-0.95490432], dtype=float32),\n",
       "  'probabilities': array([ 0.72210044,  0.27789959], dtype=float32)},\n",
       " {'class_ids': array([0]),\n",
       "  'classes': array([b'0'], dtype=object),\n",
       "  'logistic': array([ 0.26237035], dtype=float32),\n",
       "  'logits': array([-1.03368473], dtype=float32),\n",
       "  'probabilities': array([ 0.73762959,  0.26237035], dtype=float32)},\n",
       " {'class_ids': array([0]),\n",
       "  'classes': array([b'0'], dtype=object),\n",
       "  'logistic': array([ 0.2499046], dtype=float32),\n",
       "  'logits': array([-1.09912109], dtype=float32),\n",
       "  'probabilities': array([ 0.75009543,  0.24990462], dtype=float32)},\n",
       " {'class_ids': array([1]),\n",
       "  'classes': array([b'1'], dtype=object),\n",
       "  'logistic': array([ 0.53816622], dtype=float32),\n",
       "  'logits': array([ 0.15296233], dtype=float32),\n",
       "  'probabilities': array([ 0.46183383,  0.53816622], dtype=float32)},\n",
       " {'class_ids': array([0]),\n",
       "  'classes': array([b'0'], dtype=object),\n",
       "  'logistic': array([ 0.19935492], dtype=float32),\n",
       "  'logits': array([-1.39033091], dtype=float32),\n",
       "  'probabilities': array([ 0.80064505,  0.19935493], dtype=float32)},\n",
       " {'class_ids': array([0]),\n",
       "  'classes': array([b'0'], dtype=object),\n",
       "  'logistic': array([ 0.26448742], dtype=float32),\n",
       "  'logits': array([-1.0227741], dtype=float32),\n",
       "  'probabilities': array([ 0.73551261,  0.26448742], dtype=float32)},\n",
       " {'class_ids': array([1]),\n",
       "  'classes': array([b'1'], dtype=object),\n",
       "  'logistic': array([ 0.69230705], dtype=float32),\n",
       "  'logits': array([ 0.81092727], dtype=float32),\n",
       "  'probabilities': array([ 0.30769295,  0.69230705], dtype=float32)},\n",
       " {'class_ids': array([1]),\n",
       "  'classes': array([b'1'], dtype=object),\n",
       "  'logistic': array([ 0.68646324], dtype=float32),\n",
       "  'logits': array([ 0.78363609], dtype=float32),\n",
       "  'probabilities': array([ 0.31353673,  0.68646324], dtype=float32)},\n",
       " {'class_ids': array([1]),\n",
       "  'classes': array([b'1'], dtype=object),\n",
       "  'logistic': array([ 0.55441666], dtype=float32),\n",
       "  'logits': array([ 0.21853232], dtype=float32),\n",
       "  'probabilities': array([ 0.44558328,  0.55441666], dtype=float32)},\n",
       " {'class_ids': array([0]),\n",
       "  'classes': array([b'0'], dtype=object),\n",
       "  'logistic': array([ 0.43606734], dtype=float32),\n",
       "  'logits': array([-0.25713813], dtype=float32),\n",
       "  'probabilities': array([ 0.56393266,  0.43606731], dtype=float32)},\n",
       " {'class_ids': array([1]),\n",
       "  'classes': array([b'1'], dtype=object),\n",
       "  'logistic': array([ 0.53720874], dtype=float32),\n",
       "  'logits': array([ 0.14911067], dtype=float32),\n",
       "  'probabilities': array([ 0.4627912 ,  0.53720874], dtype=float32)},\n",
       " {'class_ids': array([0]),\n",
       "  'classes': array([b'0'], dtype=object),\n",
       "  'logistic': array([ 0.21568213], dtype=float32),\n",
       "  'logits': array([-1.29100859], dtype=float32),\n",
       "  'probabilities': array([ 0.78431785,  0.21568213], dtype=float32)},\n",
       " {'class_ids': array([0]),\n",
       "  'classes': array([b'0'], dtype=object),\n",
       "  'logistic': array([ 0.22654794], dtype=float32),\n",
       "  'logits': array([-1.22790718], dtype=float32),\n",
       "  'probabilities': array([ 0.7734521 ,  0.22654793], dtype=float32)},\n",
       " {'class_ids': array([0]),\n",
       "  'classes': array([b'0'], dtype=object),\n",
       "  'logistic': array([ 0.17367211], dtype=float32),\n",
       "  'logits': array([-1.55982256], dtype=float32),\n",
       "  'probabilities': array([ 0.82632786,  0.17367209], dtype=float32)},\n",
       " {'class_ids': array([0]),\n",
       "  'classes': array([b'0'], dtype=object),\n",
       "  'logistic': array([ 0.15410422], dtype=float32),\n",
       "  'logits': array([-1.70276701], dtype=float32),\n",
       "  'probabilities': array([ 0.84589577,  0.15410422], dtype=float32)},\n",
       " {'class_ids': array([1]),\n",
       "  'classes': array([b'1'], dtype=object),\n",
       "  'logistic': array([ 0.66518784], dtype=float32),\n",
       "  'logits': array([ 0.68649983], dtype=float32),\n",
       "  'probabilities': array([ 0.33481216,  0.66518784], dtype=float32)},\n",
       " {'class_ids': array([0]),\n",
       "  'classes': array([b'0'], dtype=object),\n",
       "  'logistic': array([ 0.26965541], dtype=float32),\n",
       "  'logits': array([-0.99637163], dtype=float32),\n",
       "  'probabilities': array([ 0.73034459,  0.26965541], dtype=float32)},\n",
       " {'class_ids': array([0]),\n",
       "  'classes': array([b'0'], dtype=object),\n",
       "  'logistic': array([ 0.49121913], dtype=float32),\n",
       "  'logits': array([-0.03512728], dtype=float32),\n",
       "  'probabilities': array([ 0.50878096,  0.49121913], dtype=float32)},\n",
       " {'class_ids': array([1]),\n",
       "  'classes': array([b'1'], dtype=object),\n",
       "  'logistic': array([ 0.64804822], dtype=float32),\n",
       "  'logits': array([ 0.61047089], dtype=float32),\n",
       "  'probabilities': array([ 0.35195181,  0.64804822], dtype=float32)},\n",
       " {'class_ids': array([0]),\n",
       "  'classes': array([b'0'], dtype=object),\n",
       "  'logistic': array([ 0.353872], dtype=float32),\n",
       "  'logits': array([-0.60206228], dtype=float32),\n",
       "  'probabilities': array([ 0.646128,  0.353872], dtype=float32)},\n",
       " {'class_ids': array([1]),\n",
       "  'classes': array([b'1'], dtype=object),\n",
       "  'logistic': array([ 0.67971617], dtype=float32),\n",
       "  'logits': array([ 0.75246787], dtype=float32),\n",
       "  'probabilities': array([ 0.32028377,  0.67971617], dtype=float32)},\n",
       " {'class_ids': array([0]),\n",
       "  'classes': array([b'0'], dtype=object),\n",
       "  'logistic': array([ 0.15704536], dtype=float32),\n",
       "  'logits': array([-1.68037844], dtype=float32),\n",
       "  'probabilities': array([ 0.84295464,  0.15704536], dtype=float32)},\n",
       " {'class_ids': array([1]),\n",
       "  'classes': array([b'1'], dtype=object),\n",
       "  'logistic': array([ 0.67099601], dtype=float32),\n",
       "  'logits': array([ 0.7126931], dtype=float32),\n",
       "  'probabilities': array([ 0.32900405,  0.67099601], dtype=float32)},\n",
       " {'class_ids': array([0]),\n",
       "  'classes': array([b'0'], dtype=object),\n",
       "  'logistic': array([ 0.14770357], dtype=float32),\n",
       "  'logits': array([-1.75272703], dtype=float32),\n",
       "  'probabilities': array([ 0.85229641,  0.14770356], dtype=float32)},\n",
       " {'class_ids': array([1]),\n",
       "  'classes': array([b'1'], dtype=object),\n",
       "  'logistic': array([ 0.60078543], dtype=float32),\n",
       "  'logits': array([ 0.40873873], dtype=float32),\n",
       "  'probabilities': array([ 0.39921457,  0.60078543], dtype=float32)},\n",
       " {'class_ids': array([0]),\n",
       "  'classes': array([b'0'], dtype=object),\n",
       "  'logistic': array([ 0.39657027], dtype=float32),\n",
       "  'logits': array([-0.4197762], dtype=float32),\n",
       "  'probabilities': array([ 0.60342968,  0.39657027], dtype=float32)},\n",
       " {'class_ids': array([0]),\n",
       "  'classes': array([b'0'], dtype=object),\n",
       "  'logistic': array([ 0.18863586], dtype=float32),\n",
       "  'logits': array([-1.45889843], dtype=float32),\n",
       "  'probabilities': array([ 0.81136417,  0.18863586], dtype=float32)},\n",
       " {'class_ids': array([1]),\n",
       "  'classes': array([b'1'], dtype=object),\n",
       "  'logistic': array([ 0.61142993], dtype=float32),\n",
       "  'logits': array([ 0.45332658], dtype=float32),\n",
       "  'probabilities': array([ 0.38857013,  0.61142993], dtype=float32)},\n",
       " {'class_ids': array([1]),\n",
       "  'classes': array([b'1'], dtype=object),\n",
       "  'logistic': array([ 0.65559918], dtype=float32),\n",
       "  'logits': array([ 0.64374328], dtype=float32),\n",
       "  'probabilities': array([ 0.34440085,  0.65559918], dtype=float32)},\n",
       " {'class_ids': array([1]),\n",
       "  'classes': array([b'1'], dtype=object),\n",
       "  'logistic': array([ 0.61080629], dtype=float32),\n",
       "  'logits': array([ 0.45070255], dtype=float32),\n",
       "  'probabilities': array([ 0.38919374,  0.61080629], dtype=float32)},\n",
       " {'class_ids': array([0]),\n",
       "  'classes': array([b'0'], dtype=object),\n",
       "  'logistic': array([ 0.19635928], dtype=float32),\n",
       "  'logits': array([-1.40920627], dtype=float32),\n",
       "  'probabilities': array([ 0.80364078,  0.19635929], dtype=float32)},\n",
       " {'class_ids': array([0]),\n",
       "  'classes': array([b'0'], dtype=object),\n",
       "  'logistic': array([ 0.40766519], dtype=float32),\n",
       "  'logits': array([-0.37362581], dtype=float32),\n",
       "  'probabilities': array([ 0.59233481,  0.40766519], dtype=float32)},\n",
       " {'class_ids': array([0]),\n",
       "  'classes': array([b'0'], dtype=object),\n",
       "  'logistic': array([ 0.18079503], dtype=float32),\n",
       "  'logits': array([-1.51097035], dtype=float32),\n",
       "  'probabilities': array([ 0.81920499,  0.18079501], dtype=float32)},\n",
       " {'class_ids': array([1]),\n",
       "  'classes': array([b'1'], dtype=object),\n",
       "  'logistic': array([ 0.75327939], dtype=float32),\n",
       "  'logits': array([ 1.11617947], dtype=float32),\n",
       "  'probabilities': array([ 0.24672066,  0.75327939], dtype=float32)},\n",
       " {'class_ids': array([1]),\n",
       "  'classes': array([b'1'], dtype=object),\n",
       "  'logistic': array([ 0.83480084], dtype=float32),\n",
       "  'logits': array([ 1.62004137], dtype=float32),\n",
       "  'probabilities': array([ 0.16519918,  0.83480084], dtype=float32)},\n",
       " {'class_ids': array([1]),\n",
       "  'classes': array([b'1'], dtype=object),\n",
       "  'logistic': array([ 0.69160575], dtype=float32),\n",
       "  'logits': array([ 0.80763721], dtype=float32),\n",
       "  'probabilities': array([ 0.30839422,  0.69160575], dtype=float32)},\n",
       " {'class_ids': array([0]),\n",
       "  'classes': array([b'0'], dtype=object),\n",
       "  'logistic': array([ 0.26524585], dtype=float32),\n",
       "  'logits': array([-1.01887882], dtype=float32),\n",
       "  'probabilities': array([ 0.73475415,  0.26524585], dtype=float32)},\n",
       " {'class_ids': array([1]),\n",
       "  'classes': array([b'1'], dtype=object),\n",
       "  'logistic': array([ 0.5142377], dtype=float32),\n",
       "  'logits': array([ 0.05696619], dtype=float32),\n",
       "  'probabilities': array([ 0.4857623,  0.5142377], dtype=float32)},\n",
       " {'class_ids': array([0]),\n",
       "  'classes': array([b'0'], dtype=object),\n",
       "  'logistic': array([ 0.43604892], dtype=float32),\n",
       "  'logits': array([-0.25721312], dtype=float32),\n",
       "  'probabilities': array([ 0.56395108,  0.43604887], dtype=float32)},\n",
       " {'class_ids': array([0]),\n",
       "  'classes': array([b'0'], dtype=object),\n",
       "  'logistic': array([ 0.48988143], dtype=float32),\n",
       "  'logits': array([-0.0404799], dtype=float32),\n",
       "  'probabilities': array([ 0.51011854,  0.4898814 ], dtype=float32)},\n",
       " {'class_ids': array([0]),\n",
       "  'classes': array([b'0'], dtype=object),\n",
       "  'logistic': array([ 0.39149481], dtype=float32),\n",
       "  'logits': array([-0.44103301], dtype=float32),\n",
       "  'probabilities': array([ 0.60850513,  0.39149484], dtype=float32)},\n",
       " {'class_ids': array([0]),\n",
       "  'classes': array([b'0'], dtype=object),\n",
       "  'logistic': array([ 0.48792326], dtype=float32),\n",
       "  'logits': array([-0.04831636], dtype=float32),\n",
       "  'probabilities': array([ 0.51207674,  0.48792323], dtype=float32)},\n",
       " {'class_ids': array([0]),\n",
       "  'classes': array([b'0'], dtype=object),\n",
       "  'logistic': array([ 0.18031731], dtype=float32),\n",
       "  'logits': array([-1.51419914], dtype=float32),\n",
       "  'probabilities': array([ 0.81968266,  0.18031731], dtype=float32)},\n",
       " {'class_ids': array([1]),\n",
       "  'classes': array([b'1'], dtype=object),\n",
       "  'logistic': array([ 0.61861962], dtype=float32),\n",
       "  'logits': array([ 0.48369336], dtype=float32),\n",
       "  'probabilities': array([ 0.38138035,  0.61861962], dtype=float32)},\n",
       " {'class_ids': array([1]),\n",
       "  'classes': array([b'1'], dtype=object),\n",
       "  'logistic': array([ 0.61059004], dtype=float32),\n",
       "  'logits': array([ 0.44979286], dtype=float32),\n",
       "  'probabilities': array([ 0.38941005,  0.61059004], dtype=float32)},\n",
       " {'class_ids': array([0]),\n",
       "  'classes': array([b'0'], dtype=object),\n",
       "  'logistic': array([ 0.30111226], dtype=float32),\n",
       "  'logits': array([-0.84200692], dtype=float32),\n",
       "  'probabilities': array([ 0.69888771,  0.30111226], dtype=float32)},\n",
       " {'class_ids': array([0]),\n",
       "  'classes': array([b'0'], dtype=object),\n",
       "  'logistic': array([ 0.20644879], dtype=float32),\n",
       "  'logits': array([-1.34646571], dtype=float32),\n",
       "  'probabilities': array([ 0.79355127,  0.20644881], dtype=float32)},\n",
       " {'class_ids': array([0]),\n",
       "  'classes': array([b'0'], dtype=object),\n",
       "  'logistic': array([ 0.20317192], dtype=float32),\n",
       "  'logits': array([-1.36658645], dtype=float32),\n",
       "  'probabilities': array([ 0.79682809,  0.20317192], dtype=float32)},\n",
       " {'class_ids': array([0]),\n",
       "  'classes': array([b'0'], dtype=object),\n",
       "  'logistic': array([ 0.3390843], dtype=float32),\n",
       "  'logits': array([-0.66737759], dtype=float32),\n",
       "  'probabilities': array([ 0.66091573,  0.3390843 ], dtype=float32)},\n",
       " {'class_ids': array([0]),\n",
       "  'classes': array([b'0'], dtype=object),\n",
       "  'logistic': array([ 0.41293401], dtype=float32),\n",
       "  'logits': array([-0.35184944], dtype=float32),\n",
       "  'probabilities': array([ 0.58706599,  0.41293401], dtype=float32)},\n",
       " {'class_ids': array([0]),\n",
       "  'classes': array([b'0'], dtype=object),\n",
       "  'logistic': array([ 0.16150649], dtype=float32),\n",
       "  'logits': array([-1.64706159], dtype=float32),\n",
       "  'probabilities': array([ 0.83849353,  0.16150649], dtype=float32)},\n",
       " {'class_ids': array([0]),\n",
       "  'classes': array([b'0'], dtype=object),\n",
       "  'logistic': array([ 0.38156444], dtype=float32),\n",
       "  'logits': array([-0.48291326], dtype=float32),\n",
       "  'probabilities': array([ 0.61843556,  0.38156441], dtype=float32)},\n",
       " {'class_ids': array([0]),\n",
       "  'classes': array([b'0'], dtype=object),\n",
       "  'logistic': array([ 0.24745566], dtype=float32),\n",
       "  'logits': array([-1.11222851], dtype=float32),\n",
       "  'probabilities': array([ 0.75254434,  0.24745566], dtype=float32)},\n",
       " {'class_ids': array([0]),\n",
       "  'classes': array([b'0'], dtype=object),\n",
       "  'logistic': array([ 0.11292866], dtype=float32),\n",
       "  'logits': array([-2.06116915], dtype=float32),\n",
       "  'probabilities': array([ 0.88707137,  0.11292866], dtype=float32)},\n",
       " {'class_ids': array([0]),\n",
       "  'classes': array([b'0'], dtype=object),\n",
       "  'logistic': array([ 0.14941075], dtype=float32),\n",
       "  'logits': array([-1.73923016], dtype=float32),\n",
       "  'probabilities': array([ 0.85058922,  0.14941074], dtype=float32)},\n",
       " {'class_ids': array([1]),\n",
       "  'classes': array([b'1'], dtype=object),\n",
       "  'logistic': array([ 0.78675622], dtype=float32),\n",
       "  'logits': array([ 1.30548239], dtype=float32),\n",
       "  'probabilities': array([ 0.21324378,  0.78675622], dtype=float32)},\n",
       " {'class_ids': array([0]),\n",
       "  'classes': array([b'0'], dtype=object),\n",
       "  'logistic': array([ 0.20578878], dtype=float32),\n",
       "  'logits': array([-1.35049915], dtype=float32),\n",
       "  'probabilities': array([ 0.79421121,  0.20578876], dtype=float32)},\n",
       " {'class_ids': array([0]),\n",
       "  'classes': array([b'0'], dtype=object),\n",
       "  'logistic': array([ 0.15424818], dtype=float32),\n",
       "  'logits': array([-1.70166314], dtype=float32),\n",
       "  'probabilities': array([ 0.84575182,  0.15424816], dtype=float32)},\n",
       " {'class_ids': array([0]),\n",
       "  'classes': array([b'0'], dtype=object),\n",
       "  'logistic': array([ 0.17127471], dtype=float32),\n",
       "  'logits': array([-1.5766201], dtype=float32),\n",
       "  'probabilities': array([ 0.82872534,  0.17127471], dtype=float32)},\n",
       " {'class_ids': array([1]),\n",
       "  'classes': array([b'1'], dtype=object),\n",
       "  'logistic': array([ 0.55144107], dtype=float32),\n",
       "  'logits': array([ 0.20649493], dtype=float32),\n",
       "  'probabilities': array([ 0.44855893,  0.55144107], dtype=float32)},\n",
       " {'class_ids': array([1]),\n",
       "  'classes': array([b'1'], dtype=object),\n",
       "  'logistic': array([ 0.50599903], dtype=float32),\n",
       "  'logits': array([ 0.02399731], dtype=float32),\n",
       "  'probabilities': array([ 0.49400094,  0.50599903], dtype=float32)},\n",
       " {'class_ids': array([0]),\n",
       "  'classes': array([b'0'], dtype=object),\n",
       "  'logistic': array([ 0.27802709], dtype=float32),\n",
       "  'logits': array([-0.95426917], dtype=float32),\n",
       "  'probabilities': array([ 0.72197294,  0.27802709], dtype=float32)},\n",
       " {'class_ids': array([1]),\n",
       "  'classes': array([b'1'], dtype=object),\n",
       "  'logistic': array([ 0.50291616], dtype=float32),\n",
       "  'logits': array([ 0.01166463], dtype=float32),\n",
       "  'probabilities': array([ 0.4970839 ,  0.50291616], dtype=float32)},\n",
       " {'class_ids': array([0]),\n",
       "  'classes': array([b'0'], dtype=object),\n",
       "  'logistic': array([ 0.2204476], dtype=float32),\n",
       "  'logits': array([-1.26305985], dtype=float32),\n",
       "  'probabilities': array([ 0.77955246,  0.2204476 ], dtype=float32)},\n",
       " {'class_ids': array([0]),\n",
       "  'classes': array([b'0'], dtype=object),\n",
       "  'logistic': array([ 0.2895503], dtype=float32),\n",
       "  'logits': array([-0.89756918], dtype=float32),\n",
       "  'probabilities': array([ 0.7104497 ,  0.28955027], dtype=float32)},\n",
       " {'class_ids': array([1]),\n",
       "  'classes': array([b'1'], dtype=object),\n",
       "  'logistic': array([ 0.58938032], dtype=float32),\n",
       "  'logits': array([ 0.36140442], dtype=float32),\n",
       "  'probabilities': array([ 0.41061962,  0.58938032], dtype=float32)},\n",
       " {'class_ids': array([1]),\n",
       "  'classes': array([b'1'], dtype=object),\n",
       "  'logistic': array([ 0.52964115], dtype=float32),\n",
       "  'logits': array([ 0.11870384], dtype=float32),\n",
       "  'probabilities': array([ 0.47035882,  0.52964115], dtype=float32)},\n",
       " {'class_ids': array([0]),\n",
       "  'classes': array([b'0'], dtype=object),\n",
       "  'logistic': array([ 0.16182138], dtype=float32),\n",
       "  'logits': array([-1.64473808], dtype=float32),\n",
       "  'probabilities': array([ 0.83817863,  0.16182138], dtype=float32)},\n",
       " {'class_ids': array([0]),\n",
       "  'classes': array([b'0'], dtype=object),\n",
       "  'logistic': array([ 0.4399738], dtype=float32),\n",
       "  'logits': array([-0.2412684], dtype=float32),\n",
       "  'probabilities': array([ 0.56002623,  0.4399738 ], dtype=float32)},\n",
       " {'class_ids': array([1]),\n",
       "  'classes': array([b'1'], dtype=object),\n",
       "  'logistic': array([ 0.70717204], dtype=float32),\n",
       "  'logits': array([ 0.88168859], dtype=float32),\n",
       "  'probabilities': array([ 0.29282799,  0.70717204], dtype=float32)},\n",
       " {'class_ids': array([1]),\n",
       "  'classes': array([b'1'], dtype=object),\n",
       "  'logistic': array([ 0.58219963], dtype=float32),\n",
       "  'logits': array([ 0.33180976], dtype=float32),\n",
       "  'probabilities': array([ 0.41780034,  0.58219963], dtype=float32)},\n",
       " {'class_ids': array([0]),\n",
       "  'classes': array([b'0'], dtype=object),\n",
       "  'logistic': array([ 0.42348245], dtype=float32),\n",
       "  'logits': array([-0.30849367], dtype=float32),\n",
       "  'probabilities': array([ 0.57651752,  0.42348242], dtype=float32)},\n",
       " {'class_ids': array([1]),\n",
       "  'classes': array([b'1'], dtype=object),\n",
       "  'logistic': array([ 0.61125153], dtype=float32),\n",
       "  'logits': array([ 0.4525758], dtype=float32),\n",
       "  'probabilities': array([ 0.38874853,  0.61125153], dtype=float32)},\n",
       " {'class_ids': array([0]),\n",
       "  'classes': array([b'0'], dtype=object),\n",
       "  'logistic': array([ 0.23614928], dtype=float32),\n",
       "  'logits': array([-1.17390823], dtype=float32),\n",
       "  'probabilities': array([ 0.76385075,  0.23614927], dtype=float32)},\n",
       " {'class_ids': array([0]),\n",
       "  'classes': array([b'0'], dtype=object),\n",
       "  'logistic': array([ 0.22670232], dtype=float32),\n",
       "  'logits': array([-1.22702622], dtype=float32),\n",
       "  'probabilities': array([ 0.77329767,  0.22670233], dtype=float32)},\n",
       " {'class_ids': array([0]),\n",
       "  'classes': array([b'0'], dtype=object),\n",
       "  'logistic': array([ 0.15758884], dtype=float32),\n",
       "  'logits': array([-1.67627883], dtype=float32),\n",
       "  'probabilities': array([ 0.84241116,  0.15758885], dtype=float32)},\n",
       " {'class_ids': array([0]),\n",
       "  'classes': array([b'0'], dtype=object),\n",
       "  'logistic': array([ 0.3197377], dtype=float32),\n",
       "  'logits': array([-0.75497741], dtype=float32),\n",
       "  'probabilities': array([ 0.68026227,  0.31973773], dtype=float32)},\n",
       " {'class_ids': array([1]),\n",
       "  'classes': array([b'1'], dtype=object),\n",
       "  'logistic': array([ 0.54336429], dtype=float32),\n",
       "  'logits': array([ 0.17389393], dtype=float32),\n",
       "  'probabilities': array([ 0.45663574,  0.54336429], dtype=float32)},\n",
       " {'class_ids': array([1]),\n",
       "  'classes': array([b'1'], dtype=object),\n",
       "  'logistic': array([ 0.70992488], dtype=float32),\n",
       "  'logits': array([ 0.89501917], dtype=float32),\n",
       "  'probabilities': array([ 0.29007512,  0.70992488], dtype=float32)},\n",
       " {'class_ids': array([0]),\n",
       "  'classes': array([b'0'], dtype=object),\n",
       "  'logistic': array([ 0.27067724], dtype=float32),\n",
       "  'logits': array([-0.99118918], dtype=float32),\n",
       "  'probabilities': array([ 0.72932273,  0.27067727], dtype=float32)},\n",
       " {'class_ids': array([0]),\n",
       "  'classes': array([b'0'], dtype=object),\n",
       "  'logistic': array([ 0.1930778], dtype=float32),\n",
       "  'logits': array([-1.43013406], dtype=float32),\n",
       "  'probabilities': array([ 0.8069222,  0.1930778], dtype=float32)},\n",
       " {'class_ids': array([0]),\n",
       "  'classes': array([b'0'], dtype=object),\n",
       "  'logistic': array([ 0.47790155], dtype=float32),\n",
       "  'logits': array([-0.08845139], dtype=float32),\n",
       "  'probabilities': array([ 0.52209842,  0.47790152], dtype=float32)},\n",
       " {'class_ids': array([0]),\n",
       "  'classes': array([b'0'], dtype=object),\n",
       "  'logistic': array([ 0.26599431], dtype=float32),\n",
       "  'logits': array([-1.01504195], dtype=float32),\n",
       "  'probabilities': array([ 0.73400575,  0.26599431], dtype=float32)},\n",
       " {'class_ids': array([0]),\n",
       "  'classes': array([b'0'], dtype=object),\n",
       "  'logistic': array([ 0.166881], dtype=float32),\n",
       "  'logits': array([-1.60789561], dtype=float32),\n",
       "  'probabilities': array([ 0.83311903,  0.16688098], dtype=float32)},\n",
       " {'class_ids': array([0]),\n",
       "  'classes': array([b'0'], dtype=object),\n",
       "  'logistic': array([ 0.22597574], dtype=float32),\n",
       "  'logits': array([-1.23117554], dtype=float32),\n",
       "  'probabilities': array([ 0.77402425,  0.22597575], dtype=float32)},\n",
       " {'class_ids': array([0]),\n",
       "  'classes': array([b'0'], dtype=object),\n",
       "  'logistic': array([ 0.1474487], dtype=float32),\n",
       "  'logits': array([-1.75475299], dtype=float32),\n",
       "  'probabilities': array([ 0.85255134,  0.14744872], dtype=float32)},\n",
       " {'class_ids': array([0]),\n",
       "  'classes': array([b'0'], dtype=object),\n",
       "  'logistic': array([ 0.47937861], dtype=float32),\n",
       "  'logits': array([-0.08253229], dtype=float32),\n",
       "  'probabilities': array([ 0.52062142,  0.47937867], dtype=float32)},\n",
       " {'class_ids': array([1]),\n",
       "  'classes': array([b'1'], dtype=object),\n",
       "  'logistic': array([ 0.8056612], dtype=float32),\n",
       "  'logits': array([ 1.42206049], dtype=float32),\n",
       "  'probabilities': array([ 0.19433877,  0.8056612 ], dtype=float32)},\n",
       " {'class_ids': array([1]),\n",
       "  'classes': array([b'1'], dtype=object),\n",
       "  'logistic': array([ 0.80902976], dtype=float32),\n",
       "  'logits': array([ 1.44371796], dtype=float32),\n",
       "  'probabilities': array([ 0.19097027,  0.80902976], dtype=float32)},\n",
       " {'class_ids': array([1]),\n",
       "  'classes': array([b'1'], dtype=object),\n",
       "  'logistic': array([ 0.58659673], dtype=float32),\n",
       "  'logits': array([ 0.34991395], dtype=float32),\n",
       "  'probabilities': array([ 0.4134033 ,  0.58659673], dtype=float32)},\n",
       " {'class_ids': array([1]),\n",
       "  'classes': array([b'1'], dtype=object),\n",
       "  'logistic': array([ 0.54419267], dtype=float32),\n",
       "  'logits': array([ 0.1772331], dtype=float32),\n",
       "  'probabilities': array([ 0.45580736,  0.54419267], dtype=float32)},\n",
       " {'class_ids': array([1]),\n",
       "  'classes': array([b'1'], dtype=object),\n",
       "  'logistic': array([ 0.62423754], dtype=float32),\n",
       "  'logits': array([ 0.5075736], dtype=float32),\n",
       "  'probabilities': array([ 0.37576249,  0.62423754], dtype=float32)},\n",
       " {'class_ids': array([0]),\n",
       "  'classes': array([b'0'], dtype=object),\n",
       "  'logistic': array([ 0.13087414], dtype=float32),\n",
       "  'logits': array([-1.8932519], dtype=float32),\n",
       "  'probabilities': array([ 0.86912584,  0.13087413], dtype=float32)},\n",
       " {'class_ids': array([1]),\n",
       "  'classes': array([b'1'], dtype=object),\n",
       "  'logistic': array([ 0.57796264], dtype=float32),\n",
       "  'logits': array([ 0.31441534], dtype=float32),\n",
       "  'probabilities': array([ 0.42203736,  0.57796264], dtype=float32)},\n",
       " {'class_ids': array([1]),\n",
       "  'classes': array([b'1'], dtype=object),\n",
       "  'logistic': array([ 0.80244857], dtype=float32),\n",
       "  'logits': array([ 1.40166903], dtype=float32),\n",
       "  'probabilities': array([ 0.19755138,  0.80244857], dtype=float32)},\n",
       " {'class_ids': array([0]),\n",
       "  'classes': array([b'0'], dtype=object),\n",
       "  'logistic': array([ 0.46560484], dtype=float32),\n",
       "  'logits': array([-0.13779819], dtype=float32),\n",
       "  'probabilities': array([ 0.53439516,  0.4656049 ], dtype=float32)},\n",
       " {'class_ids': array([0]),\n",
       "  'classes': array([b'0'], dtype=object),\n",
       "  'logistic': array([ 0.31645116], dtype=float32),\n",
       "  'logits': array([-0.77012908], dtype=float32),\n",
       "  'probabilities': array([ 0.68354881,  0.31645116], dtype=float32)},\n",
       " {'class_ids': array([0]),\n",
       "  'classes': array([b'0'], dtype=object),\n",
       "  'logistic': array([ 0.38379651], dtype=float32),\n",
       "  'logits': array([-0.47346467], dtype=float32),\n",
       "  'probabilities': array([ 0.61620343,  0.38379651], dtype=float32)},\n",
       " {'class_ids': array([1]),\n",
       "  'classes': array([b'1'], dtype=object),\n",
       "  'logistic': array([ 0.65375602], dtype=float32),\n",
       "  'logits': array([ 0.63559055], dtype=float32),\n",
       "  'probabilities': array([ 0.34624398,  0.65375602], dtype=float32)},\n",
       " {'class_ids': array([0]),\n",
       "  'classes': array([b'0'], dtype=object),\n",
       "  'logistic': array([ 0.27009672], dtype=float32),\n",
       "  'logits': array([-0.99413186], dtype=float32),\n",
       "  'probabilities': array([ 0.72990328,  0.27009675], dtype=float32)},\n",
       " {'class_ids': array([1]),\n",
       "  'classes': array([b'1'], dtype=object),\n",
       "  'logistic': array([ 0.69366449], dtype=float32),\n",
       "  'logits': array([ 0.81730735], dtype=float32),\n",
       "  'probabilities': array([ 0.30633554,  0.69366449], dtype=float32)},\n",
       " {'class_ids': array([0]),\n",
       "  'classes': array([b'0'], dtype=object),\n",
       "  'logistic': array([ 0.45832014], dtype=float32),\n",
       "  'logits': array([-0.16710711], dtype=float32),\n",
       "  'probabilities': array([ 0.54167986,  0.4583202 ], dtype=float32)},\n",
       " {'class_ids': array([0]),\n",
       "  'classes': array([b'0'], dtype=object),\n",
       "  'logistic': array([ 0.46129006], dtype=float32),\n",
       "  'logits': array([-0.15515023], dtype=float32),\n",
       "  'probabilities': array([ 0.53870994,  0.46129006], dtype=float32)},\n",
       " {'class_ids': array([0]),\n",
       "  'classes': array([b'0'], dtype=object),\n",
       "  'logistic': array([ 0.18430567], dtype=float32),\n",
       "  'logits': array([-1.48744416], dtype=float32),\n",
       "  'probabilities': array([ 0.81569433,  0.18430565], dtype=float32)},\n",
       " {'class_ids': array([0]),\n",
       "  'classes': array([b'0'], dtype=object),\n",
       "  'logistic': array([ 0.22891212], dtype=float32),\n",
       "  'logits': array([-1.21446419], dtype=float32),\n",
       "  'probabilities': array([ 0.77108788,  0.22891212], dtype=float32)},\n",
       " {'class_ids': array([0]),\n",
       "  'classes': array([b'0'], dtype=object),\n",
       "  'logistic': array([ 0.22026549], dtype=float32),\n",
       "  'logits': array([-1.26411986], dtype=float32),\n",
       "  'probabilities': array([ 0.77973449,  0.22026549], dtype=float32)},\n",
       " {'class_ids': array([0]),\n",
       "  'classes': array([b'0'], dtype=object),\n",
       "  'logistic': array([ 0.47710094], dtype=float32),\n",
       "  'logits': array([-0.0916605], dtype=float32),\n",
       "  'probabilities': array([ 0.52289909,  0.47710091], dtype=float32)},\n",
       " {'class_ids': array([0]),\n",
       "  'classes': array([b'0'], dtype=object),\n",
       "  'logistic': array([ 0.17130677], dtype=float32),\n",
       "  'logits': array([-1.57639408], dtype=float32),\n",
       "  'probabilities': array([ 0.82869321,  0.17130676], dtype=float32)},\n",
       " {'class_ids': array([1]),\n",
       "  'classes': array([b'1'], dtype=object),\n",
       "  'logistic': array([ 0.78509694], dtype=float32),\n",
       "  'logits': array([ 1.2956202], dtype=float32),\n",
       "  'probabilities': array([ 0.21490303,  0.78509694], dtype=float32)},\n",
       " {'class_ids': array([0]),\n",
       "  'classes': array([b'0'], dtype=object),\n",
       "  'logistic': array([ 0.23202002], dtype=float32),\n",
       "  'logits': array([-1.19693983], dtype=float32),\n",
       "  'probabilities': array([ 0.76797992,  0.23202004], dtype=float32)},\n",
       " {'class_ids': array([1]),\n",
       "  'classes': array([b'1'], dtype=object),\n",
       "  'logistic': array([ 0.57209116], dtype=float32),\n",
       "  'logits': array([ 0.29038823], dtype=float32),\n",
       "  'probabilities': array([ 0.42790878,  0.57209116], dtype=float32)},\n",
       " {'class_ids': array([0]),\n",
       "  'classes': array([b'0'], dtype=object),\n",
       "  'logistic': array([ 0.17767143], dtype=float32),\n",
       "  'logits': array([-1.53220415], dtype=float32),\n",
       "  'probabilities': array([ 0.82232857,  0.17767143], dtype=float32)},\n",
       " {'class_ids': array([1]),\n",
       "  'classes': array([b'1'], dtype=object),\n",
       "  'logistic': array([ 0.73318219], dtype=float32),\n",
       "  'logits': array([ 1.01082802], dtype=float32),\n",
       "  'probabilities': array([ 0.26681784,  0.73318219], dtype=float32)},\n",
       " {'class_ids': array([0]),\n",
       "  'classes': array([b'0'], dtype=object),\n",
       "  'logistic': array([ 0.33324802], dtype=float32),\n",
       "  'logits': array([-0.69353104], dtype=float32),\n",
       "  'probabilities': array([ 0.66675198,  0.33324805], dtype=float32)},\n",
       " {'class_ids': array([0]),\n",
       "  'classes': array([b'0'], dtype=object),\n",
       "  'logistic': array([ 0.2429062], dtype=float32),\n",
       "  'logits': array([-1.13681185], dtype=float32),\n",
       "  'probabilities': array([ 0.75709385,  0.2429062 ], dtype=float32)},\n",
       " {'class_ids': array([0]),\n",
       "  'classes': array([b'0'], dtype=object),\n",
       "  'logistic': array([ 0.37598756], dtype=float32),\n",
       "  'logits': array([-0.50661427], dtype=float32),\n",
       "  'probabilities': array([ 0.62401247,  0.37598756], dtype=float32)},\n",
       " {'class_ids': array([0]),\n",
       "  'classes': array([b'0'], dtype=object),\n",
       "  'logistic': array([ 0.39287034], dtype=float32),\n",
       "  'logits': array([-0.43526286], dtype=float32),\n",
       "  'probabilities': array([ 0.60712969,  0.39287031], dtype=float32)},\n",
       " {'class_ids': array([0]),\n",
       "  'classes': array([b'0'], dtype=object),\n",
       "  'logistic': array([ 0.20987937], dtype=float32),\n",
       "  'logits': array([-1.3256526], dtype=float32),\n",
       "  'probabilities': array([ 0.7901206 ,  0.20987938], dtype=float32)},\n",
       " {'class_ids': array([1]),\n",
       "  'classes': array([b'1'], dtype=object),\n",
       "  'logistic': array([ 0.74951613], dtype=float32),\n",
       "  'logits': array([ 1.09603333], dtype=float32),\n",
       "  'probabilities': array([ 0.25048387,  0.74951613], dtype=float32)},\n",
       " {'class_ids': array([0]),\n",
       "  'classes': array([b'0'], dtype=object),\n",
       "  'logistic': array([ 0.24849547], dtype=float32),\n",
       "  'logits': array([-1.10665262], dtype=float32),\n",
       "  'probabilities': array([ 0.75150454,  0.24849547], dtype=float32)},\n",
       " {'class_ids': array([0]),\n",
       "  'classes': array([b'0'], dtype=object),\n",
       "  'logistic': array([ 0.21767157], dtype=float32),\n",
       "  'logits': array([-1.27928734], dtype=float32),\n",
       "  'probabilities': array([ 0.78232843,  0.21767156], dtype=float32)},\n",
       " {'class_ids': array([0]),\n",
       "  'classes': array([b'0'], dtype=object),\n",
       "  'logistic': array([ 0.2967864], dtype=float32),\n",
       "  'logits': array([-0.86264789], dtype=float32),\n",
       "  'probabilities': array([ 0.70321357,  0.2967864 ], dtype=float32)},\n",
       " {'class_ids': array([0]),\n",
       "  'classes': array([b'0'], dtype=object),\n",
       "  'logistic': array([ 0.49285921], dtype=float32),\n",
       "  'logits': array([-0.02856493], dtype=float32),\n",
       "  'probabilities': array([ 0.50714076,  0.49285927], dtype=float32)},\n",
       " {'class_ids': array([0]),\n",
       "  'classes': array([b'0'], dtype=object),\n",
       "  'logistic': array([ 0.28288436], dtype=float32),\n",
       "  'logits': array([-0.93019897], dtype=float32),\n",
       "  'probabilities': array([ 0.71711564,  0.28288436], dtype=float32)},\n",
       " {'class_ids': array([0]),\n",
       "  'classes': array([b'0'], dtype=object),\n",
       "  'logistic': array([ 0.14108022], dtype=float32),\n",
       "  'logits': array([-1.80634689], dtype=float32),\n",
       "  'probabilities': array([ 0.85891974,  0.1410802 ], dtype=float32)},\n",
       " {'class_ids': array([1]),\n",
       "  'classes': array([b'1'], dtype=object),\n",
       "  'logistic': array([ 0.87181407], dtype=float32),\n",
       "  'logits': array([ 1.91709423], dtype=float32),\n",
       "  'probabilities': array([ 0.12818596,  0.87181407], dtype=float32)},\n",
       " {'class_ids': array([1]),\n",
       "  'classes': array([b'1'], dtype=object),\n",
       "  'logistic': array([ 0.72216868], dtype=float32),\n",
       "  'logits': array([ 0.95524454], dtype=float32),\n",
       "  'probabilities': array([ 0.27783135,  0.72216868], dtype=float32)},\n",
       " {'class_ids': array([1]),\n",
       "  'classes': array([b'1'], dtype=object),\n",
       "  'logistic': array([ 0.57336348], dtype=float32),\n",
       "  'logits': array([ 0.2955873], dtype=float32),\n",
       "  'probabilities': array([ 0.42663658,  0.57336348], dtype=float32)},\n",
       " {'class_ids': array([1]),\n",
       "  'classes': array([b'1'], dtype=object),\n",
       "  'logistic': array([ 0.75486684], dtype=float32),\n",
       "  'logits': array([ 1.12473989], dtype=float32),\n",
       "  'probabilities': array([ 0.24513313,  0.75486684], dtype=float32)},\n",
       " {'class_ids': array([0]),\n",
       "  'classes': array([b'0'], dtype=object),\n",
       "  'logistic': array([ 0.14101446], dtype=float32),\n",
       "  'logits': array([-1.80688965], dtype=float32),\n",
       "  'probabilities': array([ 0.85898554,  0.14101446], dtype=float32)},\n",
       " {'class_ids': array([0]),\n",
       "  'classes': array([b'0'], dtype=object),\n",
       "  'logistic': array([ 0.16867532], dtype=float32),\n",
       "  'logits': array([-1.59504485], dtype=float32),\n",
       "  'probabilities': array([ 0.8313247 ,  0.16867532], dtype=float32)},\n",
       " {'class_ids': array([0]),\n",
       "  'classes': array([b'0'], dtype=object),\n",
       "  'logistic': array([ 0.25132143], dtype=float32),\n",
       "  'logits': array([-1.09157705], dtype=float32),\n",
       "  'probabilities': array([ 0.74867857,  0.25132143], dtype=float32)},\n",
       " {'class_ids': array([0]),\n",
       "  'classes': array([b'0'], dtype=object),\n",
       "  'logistic': array([ 0.39428225], dtype=float32),\n",
       "  'logits': array([-0.42934704], dtype=float32),\n",
       "  'probabilities': array([ 0.60571772,  0.39428225], dtype=float32)},\n",
       " {'class_ids': array([0]),\n",
       "  'classes': array([b'0'], dtype=object),\n",
       "  'logistic': array([ 0.42709136], dtype=float32),\n",
       "  'logits': array([-0.29372835], dtype=float32),\n",
       "  'probabilities': array([ 0.5729087 ,  0.42709136], dtype=float32)},\n",
       " {'class_ids': array([1]),\n",
       "  'classes': array([b'1'], dtype=object),\n",
       "  'logistic': array([ 0.58657473], dtype=float32),\n",
       "  'logits': array([ 0.34982336], dtype=float32),\n",
       "  'probabilities': array([ 0.41342527,  0.58657473], dtype=float32)},\n",
       " {'class_ids': array([1]),\n",
       "  'classes': array([b'1'], dtype=object),\n",
       "  'logistic': array([ 0.60869896], dtype=float32),\n",
       "  'logits': array([ 0.44184661], dtype=float32),\n",
       "  'probabilities': array([ 0.39130107,  0.60869896], dtype=float32)},\n",
       " {'class_ids': array([0]),\n",
       "  'classes': array([b'0'], dtype=object),\n",
       "  'logistic': array([ 0.43765312], dtype=float32),\n",
       "  'logits': array([-0.25069207], dtype=float32),\n",
       "  'probabilities': array([ 0.56234688,  0.43765318], dtype=float32)},\n",
       " {'class_ids': array([0]),\n",
       "  'classes': array([b'0'], dtype=object),\n",
       "  'logistic': array([ 0.39231551], dtype=float32),\n",
       "  'logits': array([-0.43758947], dtype=float32),\n",
       "  'probabilities': array([ 0.60768449,  0.39231551], dtype=float32)},\n",
       " {'class_ids': array([0]),\n",
       "  'classes': array([b'0'], dtype=object),\n",
       "  'logistic': array([ 0.40916163], dtype=float32),\n",
       "  'logits': array([-0.36743218], dtype=float32),\n",
       "  'probabilities': array([ 0.59083837,  0.40916163], dtype=float32)},\n",
       " {'class_ids': array([0]),\n",
       "  'classes': array([b'0'], dtype=object),\n",
       "  'logistic': array([ 0.23033856], dtype=float32),\n",
       "  'logits': array([-1.20640051], dtype=float32),\n",
       "  'probabilities': array([ 0.76966149,  0.23033857], dtype=float32)},\n",
       " {'class_ids': array([1]),\n",
       "  'classes': array([b'1'], dtype=object),\n",
       "  'logistic': array([ 0.65220469], dtype=float32),\n",
       "  'logits': array([ 0.62874436], dtype=float32),\n",
       "  'probabilities': array([ 0.34779528,  0.65220469], dtype=float32)},\n",
       " {'class_ids': array([0]),\n",
       "  'classes': array([b'0'], dtype=object),\n",
       "  'logistic': array([ 0.14973575], dtype=float32),\n",
       "  'logits': array([-1.73667514], dtype=float32),\n",
       "  'probabilities': array([ 0.85026431,  0.14973575], dtype=float32)},\n",
       " {'class_ids': array([0]),\n",
       "  'classes': array([b'0'], dtype=object),\n",
       "  'logistic': array([ 0.26857948], dtype=float32),\n",
       "  'logits': array([-1.00184166], dtype=float32),\n",
       "  'probabilities': array([ 0.73142052,  0.26857948], dtype=float32)},\n",
       " {'class_ids': array([1]),\n",
       "  'classes': array([b'1'], dtype=object),\n",
       "  'logistic': array([ 0.57539046], dtype=float32),\n",
       "  'logits': array([ 0.30387878], dtype=float32),\n",
       "  'probabilities': array([ 0.42460957,  0.57539046], dtype=float32)},\n",
       " {'class_ids': array([0]),\n",
       "  'classes': array([b'0'], dtype=object),\n",
       "  'logistic': array([ 0.3994191], dtype=float32),\n",
       "  'logits': array([-0.40788621], dtype=float32),\n",
       "  'probabilities': array([ 0.60058093,  0.3994191 ], dtype=float32)},\n",
       " {'class_ids': array([0]),\n",
       "  'classes': array([b'0'], dtype=object),\n",
       "  'logistic': array([ 0.24235718], dtype=float32),\n",
       "  'logits': array([-1.13979959], dtype=float32),\n",
       "  'probabilities': array([ 0.75764287,  0.24235715], dtype=float32)},\n",
       " {'class_ids': array([0]),\n",
       "  'classes': array([b'0'], dtype=object),\n",
       "  'logistic': array([ 0.32425657], dtype=float32),\n",
       "  'logits': array([-0.73427838], dtype=float32),\n",
       "  'probabilities': array([ 0.67574346,  0.32425657], dtype=float32)},\n",
       " {'class_ids': array([0]),\n",
       "  'classes': array([b'0'], dtype=object),\n",
       "  'logistic': array([ 0.30397919], dtype=float32),\n",
       "  'logits': array([-0.82842028], dtype=float32),\n",
       "  'probabilities': array([ 0.69602078,  0.30397919], dtype=float32)},\n",
       " {'class_ids': array([0]),\n",
       "  'classes': array([b'0'], dtype=object),\n",
       "  'logistic': array([ 0.16089219], dtype=float32),\n",
       "  'logits': array([-1.65160465], dtype=float32),\n",
       "  'probabilities': array([ 0.83910781,  0.16089219], dtype=float32)},\n",
       " {'class_ids': array([0]),\n",
       "  'classes': array([b'0'], dtype=object),\n",
       "  'logistic': array([ 0.23774673], dtype=float32),\n",
       "  'logits': array([-1.16507292], dtype=float32),\n",
       "  'probabilities': array([ 0.76225328,  0.23774673], dtype=float32)},\n",
       " {'class_ids': array([1]),\n",
       "  'classes': array([b'1'], dtype=object),\n",
       "  'logistic': array([ 0.62072694], dtype=float32),\n",
       "  'logits': array([ 0.49263477], dtype=float32),\n",
       "  'probabilities': array([ 0.37927309,  0.62072694], dtype=float32)},\n",
       " {'class_ids': array([1]),\n",
       "  'classes': array([b'1'], dtype=object),\n",
       "  'logistic': array([ 0.75098282], dtype=float32),\n",
       "  'logits': array([ 1.10386086], dtype=float32),\n",
       "  'probabilities': array([ 0.24901718,  0.75098282], dtype=float32)},\n",
       " {'class_ids': array([1]),\n",
       "  'classes': array([b'1'], dtype=object),\n",
       "  'logistic': array([ 0.68195355], dtype=float32),\n",
       "  'logits': array([ 0.76276433], dtype=float32),\n",
       "  'probabilities': array([ 0.31804639,  0.68195355], dtype=float32)},\n",
       " {'class_ids': array([1]),\n",
       "  'classes': array([b'1'], dtype=object),\n",
       "  'logistic': array([ 0.72328287], dtype=float32),\n",
       "  'logits': array([ 0.9608047], dtype=float32),\n",
       "  'probabilities': array([ 0.2767171 ,  0.72328287], dtype=float32)},\n",
       " {'class_ids': array([1]),\n",
       "  'classes': array([b'1'], dtype=object),\n",
       "  'logistic': array([ 0.50816351], dtype=float32),\n",
       "  'logits': array([ 0.03265691], dtype=float32),\n",
       "  'probabilities': array([ 0.49183649,  0.50816351], dtype=float32)},\n",
       " {'class_ids': array([0]),\n",
       "  'classes': array([b'0'], dtype=object),\n",
       "  'logistic': array([ 0.33094215], dtype=float32),\n",
       "  'logits': array([-0.70392692], dtype=float32),\n",
       "  'probabilities': array([ 0.66905785,  0.33094215], dtype=float32)},\n",
       " {'class_ids': array([1]),\n",
       "  'classes': array([b'1'], dtype=object),\n",
       "  'logistic': array([ 0.5581907], dtype=float32),\n",
       "  'logits': array([ 0.23382235], dtype=float32),\n",
       "  'probabilities': array([ 0.4418093,  0.5581907], dtype=float32)},\n",
       " {'class_ids': array([0]),\n",
       "  'classes': array([b'0'], dtype=object),\n",
       "  'logistic': array([ 0.21758769], dtype=float32),\n",
       "  'logits': array([-1.27977991], dtype=float32),\n",
       "  'probabilities': array([ 0.78241235,  0.21758769], dtype=float32)},\n",
       " {'class_ids': array([0]),\n",
       "  'classes': array([b'0'], dtype=object),\n",
       "  'logistic': array([ 0.18199039], dtype=float32),\n",
       "  'logits': array([-1.50292015], dtype=float32),\n",
       "  'probabilities': array([ 0.81800956,  0.18199037], dtype=float32)},\n",
       " {'class_ids': array([0]),\n",
       "  'classes': array([b'0'], dtype=object),\n",
       "  'logistic': array([ 0.21470211], dtype=float32),\n",
       "  'logits': array([-1.29681158], dtype=float32),\n",
       "  'probabilities': array([ 0.78529793,  0.21470213], dtype=float32)},\n",
       " {'class_ids': array([1]),\n",
       "  'classes': array([b'1'], dtype=object),\n",
       "  'logistic': array([ 0.54218179], dtype=float32),\n",
       "  'logits': array([ 0.16912913], dtype=float32),\n",
       "  'probabilities': array([ 0.45781821,  0.54218179], dtype=float32)},\n",
       " {'class_ids': array([0]),\n",
       "  'classes': array([b'0'], dtype=object),\n",
       "  'logistic': array([ 0.06385857], dtype=float32),\n",
       "  'logits': array([-2.68509579], dtype=float32),\n",
       "  'probabilities': array([ 0.93614143,  0.06385857], dtype=float32)},\n",
       " {'class_ids': array([0]),\n",
       "  'classes': array([b'0'], dtype=object),\n",
       "  'logistic': array([ 0.30826104], dtype=float32),\n",
       "  'logits': array([-0.80826181], dtype=float32),\n",
       "  'probabilities': array([ 0.69173896,  0.30826101], dtype=float32)},\n",
       " {'class_ids': array([0]),\n",
       "  'classes': array([b'0'], dtype=object),\n",
       "  'logistic': array([ 0.2126662], dtype=float32),\n",
       "  'logits': array([-1.30892849], dtype=float32),\n",
       "  'probabilities': array([ 0.78733385,  0.21266621], dtype=float32)},\n",
       " {'class_ids': array([0]),\n",
       "  'classes': array([b'0'], dtype=object),\n",
       "  'logistic': array([ 0.30331108], dtype=float32),\n",
       "  'logits': array([-0.83158004], dtype=float32),\n",
       "  'probabilities': array([ 0.69668889,  0.30331108], dtype=float32)},\n",
       " {'class_ids': array([0]),\n",
       "  'classes': array([b'0'], dtype=object),\n",
       "  'logistic': array([ 0.28545558], dtype=float32),\n",
       "  'logits': array([-0.91755867], dtype=float32),\n",
       "  'probabilities': array([ 0.71454442,  0.28545558], dtype=float32)},\n",
       " {'class_ids': array([0]),\n",
       "  'classes': array([b'0'], dtype=object),\n",
       "  'logistic': array([ 0.32855749], dtype=float32),\n",
       "  'logits': array([-0.71471655], dtype=float32),\n",
       "  'probabilities': array([ 0.67144251,  0.32855749], dtype=float32)},\n",
       " {'class_ids': array([1]),\n",
       "  'classes': array([b'1'], dtype=object),\n",
       "  'logistic': array([ 0.80818641], dtype=float32),\n",
       "  'logits': array([ 1.43826842], dtype=float32),\n",
       "  'probabilities': array([ 0.19181365,  0.80818641], dtype=float32)},\n",
       " {'class_ids': array([0]),\n",
       "  'classes': array([b'0'], dtype=object),\n",
       "  'logistic': array([ 0.20711724], dtype=float32),\n",
       "  'logits': array([-1.34239042], dtype=float32),\n",
       "  'probabilities': array([ 0.7928828 ,  0.20711726], dtype=float32)},\n",
       " {'class_ids': array([0]),\n",
       "  'classes': array([b'0'], dtype=object),\n",
       "  'logistic': array([ 0.14466394], dtype=float32),\n",
       "  'logits': array([-1.77708101], dtype=float32),\n",
       "  'probabilities': array([ 0.85533601,  0.14466393], dtype=float32)},\n",
       " {'class_ids': array([1]),\n",
       "  'classes': array([b'1'], dtype=object),\n",
       "  'logistic': array([ 0.61705226], dtype=float32),\n",
       "  'logits': array([ 0.47705531], dtype=float32),\n",
       "  'probabilities': array([ 0.38294768,  0.61705226], dtype=float32)},\n",
       " {'class_ids': array([1]),\n",
       "  'classes': array([b'1'], dtype=object),\n",
       "  'logistic': array([ 0.54281539], dtype=float32),\n",
       "  'logits': array([ 0.17168188], dtype=float32),\n",
       "  'probabilities': array([ 0.45718464,  0.54281539], dtype=float32)},\n",
       " {'class_ids': array([1]),\n",
       "  'classes': array([b'1'], dtype=object),\n",
       "  'logistic': array([ 0.86429757], dtype=float32),\n",
       "  'logits': array([ 1.85145283], dtype=float32),\n",
       "  'probabilities': array([ 0.1357024 ,  0.86429757], dtype=float32)},\n",
       " {'class_ids': array([1]),\n",
       "  'classes': array([b'1'], dtype=object),\n",
       "  'logistic': array([ 0.69831097], dtype=float32),\n",
       "  'logits': array([ 0.83926785], dtype=float32),\n",
       "  'probabilities': array([ 0.301689  ,  0.69831097], dtype=float32)},\n",
       " {'class_ids': array([0]),\n",
       "  'classes': array([b'0'], dtype=object),\n",
       "  'logistic': array([ 0.1471512], dtype=float32),\n",
       "  'logits': array([-1.75712168], dtype=float32),\n",
       "  'probabilities': array([ 0.85284883,  0.1471512 ], dtype=float32)},\n",
       " {'class_ids': array([1]),\n",
       "  'classes': array([b'1'], dtype=object),\n",
       "  'logistic': array([ 0.69909078], dtype=float32),\n",
       "  'logits': array([ 0.84297204], dtype=float32),\n",
       "  'probabilities': array([ 0.30090919,  0.69909078], dtype=float32)}]"
      ]
     },
     "execution_count": 47,
     "metadata": {},
     "output_type": "execute_result"
    }
   ],
   "source": [
    "my_pred = list(predictions)\n",
    "my_pred"
   ]
  },
  {
   "cell_type": "code",
   "execution_count": 48,
   "metadata": {},
   "outputs": [
    {
     "ename": "TypeError",
     "evalue": "__init__() got an unexpected keyword argument 'features_clolumns'",
     "output_type": "error",
     "traceback": [
      "\u001b[0;31m---------------------------------------------------------------------------\u001b[0m",
      "\u001b[0;31mTypeError\u001b[0m                                 Traceback (most recent call last)",
      "\u001b[0;32m<ipython-input-48-190d78342b6f>\u001b[0m in \u001b[0;36m<module>\u001b[0;34m()\u001b[0m\n\u001b[0;32m----> 1\u001b[0;31m \u001b[0mdnn_model\u001b[0m \u001b[0;34m=\u001b[0m \u001b[0mtf\u001b[0m\u001b[0;34m.\u001b[0m\u001b[0mestimator\u001b[0m\u001b[0;34m.\u001b[0m\u001b[0mDNNClassifier\u001b[0m\u001b[0;34m(\u001b[0m\u001b[0mhidden_units\u001b[0m\u001b[0;34m=\u001b[0m\u001b[0;34m[\u001b[0m\u001b[0;36m10\u001b[0m\u001b[0;34m,\u001b[0m\u001b[0;36m10\u001b[0m\u001b[0;34m,\u001b[0m\u001b[0;36m10\u001b[0m\u001b[0;34m]\u001b[0m\u001b[0;34m,\u001b[0m \u001b[0mfeatures_clolumns\u001b[0m\u001b[0;34m=\u001b[0m\u001b[0mfeat_cols\u001b[0m\u001b[0;34m,\u001b[0m \u001b[0mn_classes\u001b[0m\u001b[0;34m=\u001b[0m\u001b[0;36m2\u001b[0m\u001b[0;34m)\u001b[0m\u001b[0;34m\u001b[0m\u001b[0m\n\u001b[0m",
      "\u001b[0;31mTypeError\u001b[0m: __init__() got an unexpected keyword argument 'features_clolumns'"
     ]
    }
   ],
   "source": [
    "dnn_model = tf.estimator.DNNClassifier(hidden_units=[10,10,10], features_clolumns=feat_cols, n_classes=2)"
   ]
  },
  {
   "cell_type": "code",
   "execution_count": null,
   "metadata": {},
   "outputs": [],
   "source": []
  }
 ],
 "metadata": {
  "kernelspec": {
   "display_name": "Python 3",
   "language": "python",
   "name": "python3"
  },
  "language_info": {
   "codemirror_mode": {
    "name": "ipython",
    "version": 3
   },
   "file_extension": ".py",
   "mimetype": "text/x-python",
   "name": "python",
   "nbconvert_exporter": "python",
   "pygments_lexer": "ipython3",
   "version": "3.5.2"
  }
 },
 "nbformat": 4,
 "nbformat_minor": 2
}
