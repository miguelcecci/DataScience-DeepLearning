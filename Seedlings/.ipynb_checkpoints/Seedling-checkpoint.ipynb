{
 "cells": [
  {
   "cell_type": "markdown",
   "metadata": {},
   "source": [
    "# Plant Seedlings Classification - Tensorflow Project"
   ]
  },
  {
   "cell_type": "code",
   "execution_count": 1,
   "metadata": {},
   "outputs": [],
   "source": [
    "import tensorflow as tf\n",
    "import matplotlib.pyplot as plt\n",
    "import numpy as np\n",
    "import pandas as pd\n",
    "import os\n",
    "%matplotlib inline\n",
    "from sklearn.preprocessing import LabelEncoder\n",
    "from sklearn.preprocessing import OneHotEncoder\n",
    "import random\n",
    "import glob\n",
    "from IPython.display import Image\n",
    "import cv2\n",
    "#http://stackabuse.com/tensorflow-save-and-restore-models/"
   ]
  },
  {
   "cell_type": "code",
   "execution_count": 2,
   "metadata": {},
   "outputs": [],
   "source": [
    "IMG_SIZE = (28, 28)"
   ]
  },
  {
   "cell_type": "markdown",
   "metadata": {},
   "source": [
    "## Data"
   ]
  },
  {
   "cell_type": "markdown",
   "metadata": {},
   "source": [
    "### - One Hot labels"
   ]
  },
  {
   "cell_type": "code",
   "execution_count": 3,
   "metadata": {
    "scrolled": true
   },
   "outputs": [],
   "source": [
    "dirs = ['Black-grass', 'Charlock', 'Cleavers', 'Common Chickweed', 'Common wheat', 'Fat Hen', 'Loose Silky-bent',\n",
    "       'Maize', 'Scentless Mayweed', 'Shepherds Purse', 'Small-flowered Cranesbill', 'Sugar beet']\n",
    "values = np.array(dirs)\n",
    "# print(values,'\\n')\n",
    "\n",
    "#transformando em one hot\n",
    "label_encoder = LabelEncoder()\n",
    "integer_encoded = label_encoder.fit_transform(values)\n",
    "onehot_encoder = OneHotEncoder(sparse=False)\n",
    "\n",
    "integer_encoded = integer_encoded.reshape(len(integer_encoded), 1)\n",
    "onehot_encodeded = np.array(onehot_encoder.fit_transform(integer_encoded)).astype(int)\n",
    "# print(onehot_encodeded)"
   ]
  },
  {
   "cell_type": "markdown",
   "metadata": {},
   "source": [
    "### - Training Data"
   ]
  },
  {
   "cell_type": "code",
   "execution_count": 4,
   "metadata": {},
   "outputs": [],
   "source": [
    "training_path = '../data/SeedlingData/train/'\n",
    "training_data = []\n",
    "__ = -1;\n",
    "for img_class in dirs:\n",
    "    __ += 1\n",
    "    _=0;\n",
    "    for filename in glob.glob(training_path+img_class+'/*.png'):\n",
    "        im = cv2.imread(filename, 0)\n",
    "        im = np.array(cv2.resize(im, IMG_SIZE)).ravel()\n",
    "        training_data.append([im, onehot_encodeded[__]])\n",
    "#         if _==0:\n",
    "#             display(Image(filename, width=80, height=80))\n",
    "#             print(filename)\n",
    "#             print(onehot_encodeded[__])\n",
    "#         _+= 1\n",
    "random.shuffle(training_data)"
   ]
  },
  {
   "cell_type": "markdown",
   "metadata": {},
   "source": [
    "### - Test Data"
   ]
  },
  {
   "cell_type": "code",
   "execution_count": 5,
   "metadata": {},
   "outputs": [],
   "source": [
    "test_path = '../data/SeedlingData/test/'\n",
    "test_data = []\n",
    "for filename in glob.glob(test_path+'/*.png'):\n",
    "    im = cv2.imread(filename, 0)\n",
    "    im = np.array(cv2.resize(im, IMG_SIZE)).ravel()\n",
    "    test_data.append([im, filename.split('/')[-1]])"
   ]
  },
  {
   "cell_type": "markdown",
   "metadata": {},
   "source": [
    "### Building Model"
   ]
  },
  {
   "cell_type": "code",
   "execution_count": 6,
   "metadata": {},
   "outputs": [],
   "source": [
    "def init_weights(shape):\n",
    "    init_random_dist = tf.truncated_normal(shape, stddev = 0.1)\n",
    "    return tf.Variable(init_random_dist)"
   ]
  },
  {
   "cell_type": "code",
   "execution_count": 7,
   "metadata": {},
   "outputs": [],
   "source": [
    "def init_bias(shape):\n",
    "    init_bias_vals = tf.constant(0.1, shape=shape)\n",
    "    return tf.Variable(init_bias_vals)"
   ]
  },
  {
   "cell_type": "code",
   "execution_count": 8,
   "metadata": {},
   "outputs": [],
   "source": [
    "def conv2d(x, W):\n",
    "    #x -> [batch, H, W, Channels]\n",
    "    #W -> [filter H, filter W, Channels IN, Channels Out]\n",
    "    return tf.nn.conv2d(x, W, strides = [1,1,1,1], padding='SAME')"
   ]
  },
  {
   "cell_type": "code",
   "execution_count": 9,
   "metadata": {},
   "outputs": [],
   "source": [
    "def max_pool_2by2(x):\n",
    "    #x -> [batch, H, W, Channels]\n",
    "    return tf.nn.max_pool(x, ksize=[1, 2, 2, 1], strides = [1,2,2,1], padding='SAME')"
   ]
  },
  {
   "cell_type": "code",
   "execution_count": 10,
   "metadata": {},
   "outputs": [],
   "source": [
    "def convolutional_layer(input_x, shape):\n",
    "    W = init_weights(shape)\n",
    "    b = init_bias([shape[3]])\n",
    "    return tf.nn.relu(conv2d(input_x, W)+b)"
   ]
  },
  {
   "cell_type": "code",
   "execution_count": 11,
   "metadata": {},
   "outputs": [],
   "source": [
    "def normal_full_layer(input_layer, size):\n",
    "    input_size = int(input_layer.get_shape()[1])\n",
    "    W = init_weights([input_size, size])\n",
    "    b = init_bias([size])\n",
    "    return tf.matmul(input_layer, W) + b"
   ]
  },
  {
   "cell_type": "code",
   "execution_count": 12,
   "metadata": {},
   "outputs": [],
   "source": [
    "# placeholders\n",
    "x = tf.placeholder(tf.float32, shape=[None, IMG_SIZE[0]*IMG_SIZE[1]])\n",
    "y_ = tf.placeholder(tf.float32, shape=[None, 12])"
   ]
  },
  {
   "cell_type": "code",
   "execution_count": 13,
   "metadata": {},
   "outputs": [],
   "source": [
    "#layers\n",
    "x_image = tf.reshape(x, [-1, IMG_SIZE[0], IMG_SIZE[1], 1])"
   ]
  },
  {
   "cell_type": "code",
   "execution_count": 14,
   "metadata": {},
   "outputs": [],
   "source": [
    "convo_1 = convolutional_layer(x_image, shape=[5,5,1,32])\n",
    "convo_1_pooling = max_pool_2by2(convo_1)"
   ]
  },
  {
   "cell_type": "code",
   "execution_count": 15,
   "metadata": {},
   "outputs": [],
   "source": [
    "convo_2 = convolutional_layer(convo_1_pooling, shape=[5,5,32,64])\n",
    "convo_2_pooling = max_pool_2by2(convo_2)"
   ]
  },
  {
   "cell_type": "code",
   "execution_count": 16,
   "metadata": {},
   "outputs": [],
   "source": [
    "convo_2_flat = tf.reshape(convo_2_pooling, [-1, 7*7*64])"
   ]
  },
  {
   "cell_type": "code",
   "execution_count": 17,
   "metadata": {},
   "outputs": [],
   "source": [
    "full_layer_one = tf.nn.relu(normal_full_layer(convo_2_flat, 1024))"
   ]
  },
  {
   "cell_type": "code",
   "execution_count": 18,
   "metadata": {},
   "outputs": [],
   "source": [
    "#dropout\n",
    "hold_prob = tf.placeholder(tf.float32)\n",
    "full_one_dropout = tf.nn.dropout(full_layer_one, keep_prob=hold_prob)"
   ]
  },
  {
   "cell_type": "code",
   "execution_count": 19,
   "metadata": {},
   "outputs": [],
   "source": [
    "y_pred = normal_full_layer(full_one_dropout, 12)"
   ]
  },
  {
   "cell_type": "code",
   "execution_count": 20,
   "metadata": {},
   "outputs": [],
   "source": [
    "#Loss\n",
    "cross_entropy = tf.reduce_mean(tf.nn.softmax_cross_entropy_with_logits(labels=y_, logits=y_pred))"
   ]
  },
  {
   "cell_type": "code",
   "execution_count": 21,
   "metadata": {},
   "outputs": [],
   "source": [
    "#Optimizer\n",
    "optimizer = tf.train.AdamOptimizer(learning_rate=0.001)\n",
    "train = optimizer.minimize(cross_entropy)"
   ]
  },
  {
   "cell_type": "markdown",
   "metadata": {},
   "source": [
    "## Runing Session"
   ]
  },
  {
   "cell_type": "code",
   "execution_count": 22,
   "metadata": {},
   "outputs": [],
   "source": [
    "init = tf.global_variables_initializer()\n",
    "saver = tf.train.Saver()"
   ]
  },
  {
   "cell_type": "code",
   "execution_count": 23,
   "metadata": {},
   "outputs": [],
   "source": [
    "steps = 6000"
   ]
  },
  {
   "cell_type": "code",
   "execution_count": 24,
   "metadata": {},
   "outputs": [
    {
     "name": "stdout",
     "output_type": "stream",
     "text": [
      "ON STEP: 0 - COST: 1039.6875 \n",
      "ON STEP: 100 - COST: 2.571378469467163 \n",
      "ON STEP: 200 - COST: 2.3593637943267822 \n",
      "ON STEP: 300 - COST: 2.214158296585083 \n",
      "ON STEP: 400 - COST: 2.172903060913086 \n",
      "ON STEP: 500 - COST: 2.2393856048583984 \n",
      "ON STEP: 600 - COST: 1.9957653284072876 \n",
      "ON STEP: 700 - COST: 2.0987257957458496 \n",
      "ON STEP: 800 - COST: 2.0718185901641846 \n",
      "ON STEP: 900 - COST: 2.0340254306793213 \n",
      "ON STEP: 1000 - COST: 2.1888861656188965 \n",
      "ON STEP: 1100 - COST: 1.776710033416748 \n",
      "ON STEP: 1200 - COST: 2.096798896789551 \n",
      "ON STEP: 1300 - COST: 1.8345601558685303 \n",
      "ON STEP: 1400 - COST: 1.8744845390319824 \n",
      "ON STEP: 1500 - COST: 1.8028544187545776 \n",
      "ON STEP: 1600 - COST: 2.0678224563598633 \n",
      "ON STEP: 1700 - COST: 1.8621242046356201 \n",
      "ON STEP: 1800 - COST: 1.6638247966766357 \n",
      "ON STEP: 1900 - COST: 1.714409351348877 \n",
      "ON STEP: 2000 - COST: 1.9717090129852295 \n",
      "ON STEP: 2100 - COST: 1.7253923416137695 \n",
      "ON STEP: 2200 - COST: 1.5225239992141724 \n",
      "ON STEP: 2300 - COST: 1.9833792448043823 \n",
      "ON STEP: 2400 - COST: 1.622711420059204 \n",
      "ON STEP: 2500 - COST: 1.9688843488693237 \n",
      "ON STEP: 2600 - COST: 2.082920551300049 \n",
      "ON STEP: 2700 - COST: 2.2396836280822754 \n",
      "ON STEP: 2800 - COST: 2.016834020614624 \n",
      "ON STEP: 2900 - COST: 2.16766357421875 \n",
      "ON STEP: 3000 - COST: 2.0786385536193848 \n",
      "ON STEP: 3100 - COST: 1.9489489793777466 \n",
      "ON STEP: 3200 - COST: 1.796410322189331 \n",
      "ON STEP: 3300 - COST: 1.66360604763031 \n",
      "ON STEP: 3400 - COST: 1.7881230115890503 \n",
      "ON STEP: 3500 - COST: 2.0270988941192627 \n",
      "ON STEP: 3600 - COST: 1.7801971435546875 \n",
      "ON STEP: 3700 - COST: 1.5888068675994873 \n",
      "ON STEP: 3800 - COST: 1.6384813785552979 \n",
      "ON STEP: 3900 - COST: 1.7130757570266724 \n",
      "ON STEP: 4000 - COST: 1.663339614868164 \n",
      "ON STEP: 4100 - COST: 1.6194831132888794 \n",
      "ON STEP: 4200 - COST: 1.656766414642334 \n",
      "ON STEP: 4300 - COST: 1.5007332563400269 \n",
      "ON STEP: 4400 - COST: 1.3410675525665283 \n",
      "ON STEP: 4500 - COST: 1.8238698244094849 \n",
      "ON STEP: 4600 - COST: 1.5881938934326172 \n",
      "ON STEP: 4700 - COST: 1.8105781078338623 \n",
      "ON STEP: 4800 - COST: 1.7372055053710938 \n",
      "ON STEP: 4900 - COST: 1.7415826320648193 \n",
      "ON STEP: 5000 - COST: 1.6740045547485352 \n",
      "ON STEP: 5100 - COST: 1.65366530418396 \n",
      "ON STEP: 5200 - COST: 1.4468401670455933 \n",
      "ON STEP: 5300 - COST: 1.8859872817993164 \n",
      "ON STEP: 5400 - COST: 1.4102891683578491 \n",
      "ON STEP: 5500 - COST: 1.3376414775848389 \n",
      "ON STEP: 5600 - COST: 1.5639795064926147 \n",
      "ON STEP: 5700 - COST: 1.322697401046753 \n",
      "ON STEP: 5800 - COST: 1.2696690559387207 \n",
      "ON STEP: 5900 - COST: 1.6561863422393799 \n",
      "Model saved in path: ./seedlings-model.ckpt\n"
     ]
    }
   ],
   "source": [
    "plot_data = []\n",
    "with tf.Session() as sess:\n",
    "    sess.run(init)\n",
    "    for i in range(steps):\n",
    "        #building batches\n",
    "        batch_x, batch_y = [], []\n",
    "        for _ in range(50):\n",
    "            rand_val = random.randrange(0,len(test_data))\n",
    "            batch_x.append(training_data[rand_val][0])\n",
    "            batch_y.append(training_data[rand_val][1])\n",
    "        batch_x = np.array(batch_x)\n",
    "        batch_y = np.array(batch_y)\n",
    "        feed = {x:batch_x, y_:batch_y, hold_prob:0.5}\n",
    "        sess.run(train, feed_dict = feed)\n",
    "        \n",
    "        if i%100 == 0:\n",
    "            temp_plot = sess.run(cross_entropy, feed_dict = feed)\n",
    "            plot_data.append(temp_plot)\n",
    "            print('ON STEP: {} - COST: {} '.format(i, temp_plot))\n",
    "    #saving trained model\n",
    "    save_path = saver.save(sess, \"./seedlings-model.ckpt\")\n",
    "    print(\"Model saved in path: %s\" % save_path)"
   ]
  },
  {
   "cell_type": "code",
   "execution_count": 25,
   "metadata": {},
   "outputs": [
    {
     "data": {
      "text/plain": [
       "[<matplotlib.lines.Line2D at 0x7fe678226240>]"
      ]
     },
     "execution_count": 25,
     "metadata": {},
     "output_type": "execute_result"
    },
    {
     "data": {
      "image/png": "[encoded data removed]",
      "text/plain": [
       "<matplotlib.figure.Figure at 0x7fe67c247eb8>"
      ]
     },
     "metadata": {},
     "output_type": "display_data"
    }
   ],
   "source": [
    "plt.ylim(0,3)#define os limites de exebiçao em y\n",
    "plt.title('Loss Chart')\n",
    "plt.xlabel('Epoch')\n",
    "plt.ylabel('Loss')\n",
    "plt.plot(plot_data)"
   ]
  },
  {
   "cell_type": "code",
   "execution_count": 26,
   "metadata": {},
   "outputs": [
    {
     "name": "stdout",
     "output_type": "stream",
     "text": [
      "INFO:tensorflow:Restoring parameters from ./seedlings-model.ckpt\n"
     ]
    }
   ],
   "source": [
    "outs_ = []\n",
    "with tf.Session() as sess:    \n",
    "    saver = tf.train.import_meta_graph('seedlings-model.ckpt.meta')\n",
    "    saver.restore(sess,tf.train.latest_checkpoint('./'))\n",
    "    graph = tf.get_default_graph()\n",
    "    x = graph.get_tensor_by_name(\"Placeholder:0\")\n",
    "    for i in range(len(test_data)):\n",
    "        feed ={x: [test_data[i][0]], hold_prob:1}\n",
    "\n",
    "        op_to_restore = tf.nn.softmax(graph.get_tensor_by_name(\"add_3:0\"))\n",
    "\n",
    "        aaa = sess.run(op_to_restore, feed).ravel().tolist()\n",
    "        aaa = aaa.index(max(aaa))\n",
    "        outs_.append([test_data[i][1], dirs[aaa]])"
   ]
  },
  {
   "cell_type": "markdown",
   "metadata": {},
   "source": [
    "## Writing csv submition"
   ]
  },
  {
   "cell_type": "code",
   "execution_count": 27,
   "metadata": {},
   "outputs": [],
   "source": [
    "import csv\n",
    "with open('submition.csv', 'w') as csvfile:\n",
    "    fieldnames = ['file', 'species']\n",
    "    writer = csv.DictWriter(csvfile, fieldnames=fieldnames)\n",
    "    \n",
    "    writer.writeheader()\n",
    "    for i in range(len(outs_)):\n",
    "        writer.writerow({'file': outs_[i][0], 'species':outs_[i][1]})"
   ]
  }
 ],
 "metadata": {
  "kernelspec": {
   "display_name": "Python 3",
   "language": "python",
   "name": "python3"
  },
  "language_info": {
   "codemirror_mode": {
    "name": "ipython",
    "version": 3
   },
   "file_extension": ".py",
   "mimetype": "text/x-python",
   "name": "python",
   "nbconvert_exporter": "python",
   "pygments_lexer": "ipython3",
   "version": "3.5.2"
  }
 },
 "nbformat": 4,
 "nbformat_minor": 2
}
