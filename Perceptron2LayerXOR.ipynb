{
 "cells": [
  {
   "cell_type": "code",
   "execution_count": 111,
   "metadata": {},
   "outputs": [],
   "source": [
    "import tensorflow as tf\n",
    "import matplotlib.pyplot as plt\n",
    "import numpy as np\n",
    "import math\n",
    "%matplotlib inline"
   ]
  },
  {
   "cell_type": "code",
   "execution_count": 211,
   "metadata": {},
   "outputs": [],
   "source": [
    "data = np.array([[0,0], [0,1], [1,0], [1,1]])\n",
    "labels = np.array([0, 1, 1, 0])"
   ]
  },
  {
   "cell_type": "code",
   "execution_count": 212,
   "metadata": {},
   "outputs": [
    {
     "data": {
      "text/plain": [
       "<matplotlib.collections.PathCollection at 0x1172ec198>"
      ]
     },
     "execution_count": 212,
     "metadata": {},
     "output_type": "execute_result"
    },
    {
     "data": {
      "image/png": "[encoded data removed]",
      "text/plain": [
       "<matplotlib.figure.Figure at 0x11572e198>"
      ]
     },
     "metadata": {},
     "output_type": "display_data"
    }
   ],
   "source": [
    "plt.scatter(data[:,0], data[:,1], c=labels, cmap=\"coolwarm\")"
   ]
  },
  {
   "cell_type": "code",
   "execution_count": 213,
   "metadata": {},
   "outputs": [],
   "source": [
    "x = tf.placeholder(\"float32\", [1, 2])\n",
    "y = tf.placeholder(\"float32\", [1])\n",
    "\n",
    "W1 = tf.Variable(tf.zeros([2, 1]) )\n",
    "W2 = tf.Variable(tf.zeros([1, 1]) )\n",
    "\n",
    "b1 = tf.Variable(tf.zeros([1, 1]) )\n",
    "b2 = tf.Variable(tf.zeros([1, 1]) )"
   ]
  },
  {
   "cell_type": "code",
   "execution_count": 224,
   "metadata": {},
   "outputs": [],
   "source": [
    "layer_1 = tf.nn.sigmoid(tf.matmul(x, W1) + b1) #cuidar para nao inverter a ordem\n",
    "layer_out = tf.nn.sigmoid(tf.matmul(layer_1, W2) + b2)"
   ]
  },
  {
   "cell_type": "code",
   "execution_count": 232,
   "metadata": {},
   "outputs": [],
   "source": [
    "cost = tf.reduce_sum(tf.square(y-layer_out))\n",
    "optimizer = tf.train.AdamOptimizer(learning_rate=0.001)\n",
    "train = optimizer.minimize(cost)"
   ]
  },
  {
   "cell_type": "code",
   "execution_count": 233,
   "metadata": {},
   "outputs": [],
   "source": [
    "init = tf.global_variables_initializer()"
   ]
  },
  {
   "cell_type": "code",
   "execution_count": 234,
   "metadata": {},
   "outputs": [
    {
     "name": "stdout",
     "output_type": "stream",
     "text": [
      "cost:  0.249625\n",
      "cost:  0.241922\n",
      "cost:  0.259914\n",
      "cost:  0.258373\n",
      "cost:  0.238141\n",
      "cost:  0.246479\n",
      "cost:  0.264199\n",
      "cost:  0.260063\n",
      "cost:  0.266398\n",
      "cost:  0.241962\n",
      "cost:  0.252364\n",
      "cost:  0.240852\n",
      "cost:  0.244648\n",
      "cost:  0.265124\n",
      "cost:  0.241022\n",
      "cost:  0.273442\n",
      "cost:  0.255129\n",
      "cost:  0.248475\n",
      "cost:  0.245667\n",
      "cost:  0.249944\n",
      "cost:  0.249922\n",
      "cost:  0.24951\n",
      "cost:  0.239578\n",
      "cost:  0.240824\n",
      "cost:  0.241756\n",
      "cost:  0.249155\n",
      "cost:  0.250491\n",
      "cost:  0.251403\n",
      "cost:  0.252435\n",
      "cost:  0.247802\n",
      "cost:  0.24337\n",
      "cost:  0.279757\n",
      "cost:  0.223394\n",
      "cost:  0.202155\n",
      "cost:  0.173777\n",
      "cost:  0.160192\n",
      "cost:  0.391123\n",
      "cost:  0.395726\n",
      "cost:  0.141039\n",
      "cost:  0.0085371\n",
      "cost:  0.12707\n",
      "cost:  0.124225\n",
      "cost:  0.438277\n",
      "cost:  0.114957\n",
      "cost:  0.00131681\n",
      "cost:  0.120983\n",
      "cost:  0.448272\n",
      "cost:  0.113168\n",
      "cost:  0.113126\n",
      "cost:  0.000206543\n",
      "cost:  0.000140546\n",
      "cost:  0.115909\n",
      "cost:  0.438402\n",
      "cost:  5.93909e-05\n",
      "cost:  0.105287\n",
      "cost:  0.109833\n",
      "cost:  1.88308e-05\n",
      "cost:  1.27399e-05\n",
      "cost:  1.03697e-05\n",
      "cost:  7.41996e-06\n",
      "cost:  0.454279\n",
      "cost:  4.07619e-06\n",
      "cost:  0.431168\n",
      "cost:  0.427803\n",
      "cost:  0.116228\n",
      "cost:  0.11843\n",
      "cost:  8.3386e-07\n",
      "cost:  0.431286\n",
      "cost:  0.432394\n",
      "cost:  0.114593\n",
      "cost:  0.112565\n",
      "cost:  0.108401\n",
      "cost:  0.449401\n",
      "cost:  0.110968\n",
      "cost:  0.106234\n",
      "cost:  0.449129\n",
      "cost:  0.103803\n",
      "cost:  2.31166e-08\n",
      "cost:  0.100493\n",
      "cost:  0.452699\n",
      "cost:  1.22152e-08\n",
      "cost:  9.49921e-09\n",
      "cost:  8.22924e-09\n",
      "cost:  0.108869\n",
      "cost:  0.109495\n",
      "cost:  0.43174\n",
      "cost:  0.118455\n",
      "cost:  0.113459\n",
      "cost:  0.440373\n",
      "cost:  2.93768e-09\n",
      "cost:  0.454579\n",
      "cost:  0.466628\n",
      "cost:  0.102591\n",
      "cost:  0.103178\n",
      "cost:  0.107067\n",
      "cost:  0.105278\n",
      "cost:  0.450298\n",
      "cost:  0.103564\n",
      "cost:  0.104227\n",
      "cost:  1.13644e-09\n"
     ]
    }
   ],
   "source": [
    "with tf.Session() as sess:\n",
    "    sess.run(init)\n",
    "    for steps in range(100000):\n",
    "        rand_ind = np.random.randint(len(labels), size=1)\n",
    "        feed = {x:data[rand_ind], y:labels[rand_ind]}\n",
    "        sess.run(train, feed_dict = feed)\n",
    "        if steps % 1000 == 0:\n",
    "            print(\"cost: \", sess.run(cost, feed_dict = feed))\n",
    "        \n",
    "    ma1, ma2, mb1, mb2 = sess.run([W1, W2, b1, b2])"
   ]
  },
  {
   "cell_type": "code",
   "execution_count": null,
   "metadata": {},
   "outputs": [],
   "source": []
  },
  {
   "cell_type": "code",
   "execution_count": null,
   "metadata": {},
   "outputs": [],
   "source": []
  }
 ],
 "metadata": {
  "kernelspec": {
   "display_name": "Python 3",
   "language": "python",
   "name": "python3"
  },
  "language_info": {
   "codemirror_mode": {
    "name": "ipython",
    "version": 3
   },
   "file_extension": ".py",
   "mimetype": "text/x-python",
   "name": "python",
   "nbconvert_exporter": "python",
   "pygments_lexer": "ipython3",
   "version": "3.6.2"
  }
 },
 "nbformat": 4,
 "nbformat_minor": 2
}
